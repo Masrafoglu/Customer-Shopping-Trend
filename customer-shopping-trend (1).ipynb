{
 "cells": [
  {
   "cell_type": "code",
   "execution_count": 1,
   "id": "06546c9a",
   "metadata": {
    "execution": {
     "iopub.execute_input": "2025-08-21T19:03:09.994881Z",
     "iopub.status.busy": "2025-08-21T19:03:09.994569Z",
     "iopub.status.idle": "2025-08-21T19:03:13.810923Z",
     "shell.execute_reply": "2025-08-21T19:03:13.810212Z"
    },
    "papermill": {
     "duration": 3.825413,
     "end_time": "2025-08-21T19:03:13.812147",
     "exception": false,
     "start_time": "2025-08-21T19:03:09.986734",
     "status": "completed"
    },
    "tags": []
   },
   "outputs": [],
   "source": [
    "import pandas as pd\n",
    "import numpy as np\n",
    "import matplotlib.pyplot as plt\n",
    "import seaborn as sns\n",
    "\n"
   ]
  },
  {
   "cell_type": "markdown",
   "id": "16d202f9",
   "metadata": {
    "papermill": {
     "duration": 0.005166,
     "end_time": "2025-08-21T19:03:13.823926",
     "exception": false,
     "start_time": "2025-08-21T19:03:13.818760",
     "status": "completed"
    },
    "tags": []
   },
   "source": [
    "# Reading Data"
   ]
  },
  {
   "cell_type": "code",
   "execution_count": 2,
   "id": "998e9fe7",
   "metadata": {
    "execution": {
     "iopub.execute_input": "2025-08-21T19:03:13.835457Z",
     "iopub.status.busy": "2025-08-21T19:03:13.835006Z",
     "iopub.status.idle": "2025-08-21T19:03:13.876363Z",
     "shell.execute_reply": "2025-08-21T19:03:13.875283Z"
    },
    "papermill": {
     "duration": 0.04908,
     "end_time": "2025-08-21T19:03:13.878002",
     "exception": false,
     "start_time": "2025-08-21T19:03:13.828922",
     "status": "completed"
    },
    "tags": []
   },
   "outputs": [],
   "source": [
    "df = pd.read_csv(\"/kaggle/input/customer-shopping-trends-dataset/shopping_trends_updated.csv\")"
   ]
  },
  {
   "cell_type": "code",
   "execution_count": 3,
   "id": "9a761206",
   "metadata": {
    "execution": {
     "iopub.execute_input": "2025-08-21T19:03:13.890663Z",
     "iopub.status.busy": "2025-08-21T19:03:13.890381Z",
     "iopub.status.idle": "2025-08-21T19:03:13.923759Z",
     "shell.execute_reply": "2025-08-21T19:03:13.923019Z"
    },
    "papermill": {
     "duration": 0.040478,
     "end_time": "2025-08-21T19:03:13.925070",
     "exception": false,
     "start_time": "2025-08-21T19:03:13.884592",
     "status": "completed"
    },
    "tags": []
   },
   "outputs": [
    {
     "data": {
      "text/html": [
       "<div>\n",
       "<style scoped>\n",
       "    .dataframe tbody tr th:only-of-type {\n",
       "        vertical-align: middle;\n",
       "    }\n",
       "\n",
       "    .dataframe tbody tr th {\n",
       "        vertical-align: top;\n",
       "    }\n",
       "\n",
       "    .dataframe thead th {\n",
       "        text-align: right;\n",
       "    }\n",
       "</style>\n",
       "<table border=\"1\" class=\"dataframe\">\n",
       "  <thead>\n",
       "    <tr style=\"text-align: right;\">\n",
       "      <th></th>\n",
       "      <th>Customer ID</th>\n",
       "      <th>Age</th>\n",
       "      <th>Gender</th>\n",
       "      <th>Item Purchased</th>\n",
       "      <th>Category</th>\n",
       "      <th>Purchase Amount (USD)</th>\n",
       "      <th>Location</th>\n",
       "      <th>Size</th>\n",
       "      <th>Color</th>\n",
       "      <th>Season</th>\n",
       "      <th>Review Rating</th>\n",
       "      <th>Subscription Status</th>\n",
       "      <th>Shipping Type</th>\n",
       "      <th>Discount Applied</th>\n",
       "      <th>Promo Code Used</th>\n",
       "      <th>Previous Purchases</th>\n",
       "      <th>Payment Method</th>\n",
       "      <th>Frequency of Purchases</th>\n",
       "    </tr>\n",
       "  </thead>\n",
       "  <tbody>\n",
       "    <tr>\n",
       "      <th>0</th>\n",
       "      <td>1</td>\n",
       "      <td>55</td>\n",
       "      <td>Male</td>\n",
       "      <td>Blouse</td>\n",
       "      <td>Clothing</td>\n",
       "      <td>53</td>\n",
       "      <td>Kentucky</td>\n",
       "      <td>L</td>\n",
       "      <td>Gray</td>\n",
       "      <td>Winter</td>\n",
       "      <td>3.1</td>\n",
       "      <td>Yes</td>\n",
       "      <td>Express</td>\n",
       "      <td>Yes</td>\n",
       "      <td>Yes</td>\n",
       "      <td>14</td>\n",
       "      <td>Venmo</td>\n",
       "      <td>Fortnightly</td>\n",
       "    </tr>\n",
       "    <tr>\n",
       "      <th>1</th>\n",
       "      <td>2</td>\n",
       "      <td>19</td>\n",
       "      <td>Male</td>\n",
       "      <td>Sweater</td>\n",
       "      <td>Clothing</td>\n",
       "      <td>64</td>\n",
       "      <td>Maine</td>\n",
       "      <td>L</td>\n",
       "      <td>Maroon</td>\n",
       "      <td>Winter</td>\n",
       "      <td>3.1</td>\n",
       "      <td>Yes</td>\n",
       "      <td>Express</td>\n",
       "      <td>Yes</td>\n",
       "      <td>Yes</td>\n",
       "      <td>2</td>\n",
       "      <td>Cash</td>\n",
       "      <td>Fortnightly</td>\n",
       "    </tr>\n",
       "    <tr>\n",
       "      <th>2</th>\n",
       "      <td>3</td>\n",
       "      <td>50</td>\n",
       "      <td>Male</td>\n",
       "      <td>Jeans</td>\n",
       "      <td>Clothing</td>\n",
       "      <td>73</td>\n",
       "      <td>Massachusetts</td>\n",
       "      <td>S</td>\n",
       "      <td>Maroon</td>\n",
       "      <td>Spring</td>\n",
       "      <td>3.1</td>\n",
       "      <td>Yes</td>\n",
       "      <td>Free Shipping</td>\n",
       "      <td>Yes</td>\n",
       "      <td>Yes</td>\n",
       "      <td>23</td>\n",
       "      <td>Credit Card</td>\n",
       "      <td>Weekly</td>\n",
       "    </tr>\n",
       "    <tr>\n",
       "      <th>3</th>\n",
       "      <td>4</td>\n",
       "      <td>21</td>\n",
       "      <td>Male</td>\n",
       "      <td>Sandals</td>\n",
       "      <td>Footwear</td>\n",
       "      <td>90</td>\n",
       "      <td>Rhode Island</td>\n",
       "      <td>M</td>\n",
       "      <td>Maroon</td>\n",
       "      <td>Spring</td>\n",
       "      <td>3.5</td>\n",
       "      <td>Yes</td>\n",
       "      <td>Next Day Air</td>\n",
       "      <td>Yes</td>\n",
       "      <td>Yes</td>\n",
       "      <td>49</td>\n",
       "      <td>PayPal</td>\n",
       "      <td>Weekly</td>\n",
       "    </tr>\n",
       "    <tr>\n",
       "      <th>4</th>\n",
       "      <td>5</td>\n",
       "      <td>45</td>\n",
       "      <td>Male</td>\n",
       "      <td>Blouse</td>\n",
       "      <td>Clothing</td>\n",
       "      <td>49</td>\n",
       "      <td>Oregon</td>\n",
       "      <td>M</td>\n",
       "      <td>Turquoise</td>\n",
       "      <td>Spring</td>\n",
       "      <td>2.7</td>\n",
       "      <td>Yes</td>\n",
       "      <td>Free Shipping</td>\n",
       "      <td>Yes</td>\n",
       "      <td>Yes</td>\n",
       "      <td>31</td>\n",
       "      <td>PayPal</td>\n",
       "      <td>Annually</td>\n",
       "    </tr>\n",
       "    <tr>\n",
       "      <th>5</th>\n",
       "      <td>6</td>\n",
       "      <td>46</td>\n",
       "      <td>Male</td>\n",
       "      <td>Sneakers</td>\n",
       "      <td>Footwear</td>\n",
       "      <td>20</td>\n",
       "      <td>Wyoming</td>\n",
       "      <td>M</td>\n",
       "      <td>White</td>\n",
       "      <td>Summer</td>\n",
       "      <td>2.9</td>\n",
       "      <td>Yes</td>\n",
       "      <td>Standard</td>\n",
       "      <td>Yes</td>\n",
       "      <td>Yes</td>\n",
       "      <td>14</td>\n",
       "      <td>Venmo</td>\n",
       "      <td>Weekly</td>\n",
       "    </tr>\n",
       "    <tr>\n",
       "      <th>6</th>\n",
       "      <td>7</td>\n",
       "      <td>63</td>\n",
       "      <td>Male</td>\n",
       "      <td>Shirt</td>\n",
       "      <td>Clothing</td>\n",
       "      <td>85</td>\n",
       "      <td>Montana</td>\n",
       "      <td>M</td>\n",
       "      <td>Gray</td>\n",
       "      <td>Fall</td>\n",
       "      <td>3.2</td>\n",
       "      <td>Yes</td>\n",
       "      <td>Free Shipping</td>\n",
       "      <td>Yes</td>\n",
       "      <td>Yes</td>\n",
       "      <td>49</td>\n",
       "      <td>Cash</td>\n",
       "      <td>Quarterly</td>\n",
       "    </tr>\n",
       "    <tr>\n",
       "      <th>7</th>\n",
       "      <td>8</td>\n",
       "      <td>27</td>\n",
       "      <td>Male</td>\n",
       "      <td>Shorts</td>\n",
       "      <td>Clothing</td>\n",
       "      <td>34</td>\n",
       "      <td>Louisiana</td>\n",
       "      <td>L</td>\n",
       "      <td>Charcoal</td>\n",
       "      <td>Winter</td>\n",
       "      <td>3.2</td>\n",
       "      <td>Yes</td>\n",
       "      <td>Free Shipping</td>\n",
       "      <td>Yes</td>\n",
       "      <td>Yes</td>\n",
       "      <td>19</td>\n",
       "      <td>Credit Card</td>\n",
       "      <td>Weekly</td>\n",
       "    </tr>\n",
       "    <tr>\n",
       "      <th>8</th>\n",
       "      <td>9</td>\n",
       "      <td>26</td>\n",
       "      <td>Male</td>\n",
       "      <td>Coat</td>\n",
       "      <td>Outerwear</td>\n",
       "      <td>97</td>\n",
       "      <td>West Virginia</td>\n",
       "      <td>L</td>\n",
       "      <td>Silver</td>\n",
       "      <td>Summer</td>\n",
       "      <td>2.6</td>\n",
       "      <td>Yes</td>\n",
       "      <td>Express</td>\n",
       "      <td>Yes</td>\n",
       "      <td>Yes</td>\n",
       "      <td>8</td>\n",
       "      <td>Venmo</td>\n",
       "      <td>Annually</td>\n",
       "    </tr>\n",
       "    <tr>\n",
       "      <th>9</th>\n",
       "      <td>10</td>\n",
       "      <td>57</td>\n",
       "      <td>Male</td>\n",
       "      <td>Handbag</td>\n",
       "      <td>Accessories</td>\n",
       "      <td>31</td>\n",
       "      <td>Missouri</td>\n",
       "      <td>M</td>\n",
       "      <td>Pink</td>\n",
       "      <td>Spring</td>\n",
       "      <td>4.8</td>\n",
       "      <td>Yes</td>\n",
       "      <td>2-Day Shipping</td>\n",
       "      <td>Yes</td>\n",
       "      <td>Yes</td>\n",
       "      <td>4</td>\n",
       "      <td>Cash</td>\n",
       "      <td>Quarterly</td>\n",
       "    </tr>\n",
       "    <tr>\n",
       "      <th>10</th>\n",
       "      <td>11</td>\n",
       "      <td>53</td>\n",
       "      <td>Male</td>\n",
       "      <td>Shoes</td>\n",
       "      <td>Footwear</td>\n",
       "      <td>34</td>\n",
       "      <td>Arkansas</td>\n",
       "      <td>L</td>\n",
       "      <td>Purple</td>\n",
       "      <td>Fall</td>\n",
       "      <td>4.1</td>\n",
       "      <td>Yes</td>\n",
       "      <td>Store Pickup</td>\n",
       "      <td>Yes</td>\n",
       "      <td>Yes</td>\n",
       "      <td>26</td>\n",
       "      <td>Bank Transfer</td>\n",
       "      <td>Bi-Weekly</td>\n",
       "    </tr>\n",
       "    <tr>\n",
       "      <th>11</th>\n",
       "      <td>12</td>\n",
       "      <td>30</td>\n",
       "      <td>Male</td>\n",
       "      <td>Shorts</td>\n",
       "      <td>Clothing</td>\n",
       "      <td>68</td>\n",
       "      <td>Hawaii</td>\n",
       "      <td>S</td>\n",
       "      <td>Olive</td>\n",
       "      <td>Winter</td>\n",
       "      <td>4.9</td>\n",
       "      <td>Yes</td>\n",
       "      <td>Store Pickup</td>\n",
       "      <td>Yes</td>\n",
       "      <td>Yes</td>\n",
       "      <td>10</td>\n",
       "      <td>Bank Transfer</td>\n",
       "      <td>Fortnightly</td>\n",
       "    </tr>\n",
       "    <tr>\n",
       "      <th>12</th>\n",
       "      <td>13</td>\n",
       "      <td>61</td>\n",
       "      <td>Male</td>\n",
       "      <td>Coat</td>\n",
       "      <td>Outerwear</td>\n",
       "      <td>72</td>\n",
       "      <td>Delaware</td>\n",
       "      <td>M</td>\n",
       "      <td>Gold</td>\n",
       "      <td>Winter</td>\n",
       "      <td>4.5</td>\n",
       "      <td>Yes</td>\n",
       "      <td>Express</td>\n",
       "      <td>Yes</td>\n",
       "      <td>Yes</td>\n",
       "      <td>37</td>\n",
       "      <td>Venmo</td>\n",
       "      <td>Fortnightly</td>\n",
       "    </tr>\n",
       "    <tr>\n",
       "      <th>13</th>\n",
       "      <td>14</td>\n",
       "      <td>65</td>\n",
       "      <td>Male</td>\n",
       "      <td>Dress</td>\n",
       "      <td>Clothing</td>\n",
       "      <td>51</td>\n",
       "      <td>New Hampshire</td>\n",
       "      <td>M</td>\n",
       "      <td>Violet</td>\n",
       "      <td>Spring</td>\n",
       "      <td>4.7</td>\n",
       "      <td>Yes</td>\n",
       "      <td>Express</td>\n",
       "      <td>Yes</td>\n",
       "      <td>Yes</td>\n",
       "      <td>31</td>\n",
       "      <td>PayPal</td>\n",
       "      <td>Weekly</td>\n",
       "    </tr>\n",
       "    <tr>\n",
       "      <th>14</th>\n",
       "      <td>15</td>\n",
       "      <td>64</td>\n",
       "      <td>Male</td>\n",
       "      <td>Coat</td>\n",
       "      <td>Outerwear</td>\n",
       "      <td>53</td>\n",
       "      <td>New York</td>\n",
       "      <td>L</td>\n",
       "      <td>Teal</td>\n",
       "      <td>Winter</td>\n",
       "      <td>4.7</td>\n",
       "      <td>Yes</td>\n",
       "      <td>Free Shipping</td>\n",
       "      <td>Yes</td>\n",
       "      <td>Yes</td>\n",
       "      <td>34</td>\n",
       "      <td>Debit Card</td>\n",
       "      <td>Weekly</td>\n",
       "    </tr>\n",
       "    <tr>\n",
       "      <th>15</th>\n",
       "      <td>16</td>\n",
       "      <td>64</td>\n",
       "      <td>Male</td>\n",
       "      <td>Skirt</td>\n",
       "      <td>Clothing</td>\n",
       "      <td>81</td>\n",
       "      <td>Rhode Island</td>\n",
       "      <td>M</td>\n",
       "      <td>Teal</td>\n",
       "      <td>Winter</td>\n",
       "      <td>2.8</td>\n",
       "      <td>Yes</td>\n",
       "      <td>Store Pickup</td>\n",
       "      <td>Yes</td>\n",
       "      <td>Yes</td>\n",
       "      <td>8</td>\n",
       "      <td>PayPal</td>\n",
       "      <td>Monthly</td>\n",
       "    </tr>\n",
       "    <tr>\n",
       "      <th>16</th>\n",
       "      <td>17</td>\n",
       "      <td>25</td>\n",
       "      <td>Male</td>\n",
       "      <td>Sunglasses</td>\n",
       "      <td>Accessories</td>\n",
       "      <td>36</td>\n",
       "      <td>Alabama</td>\n",
       "      <td>S</td>\n",
       "      <td>Gray</td>\n",
       "      <td>Spring</td>\n",
       "      <td>4.1</td>\n",
       "      <td>Yes</td>\n",
       "      <td>Next Day Air</td>\n",
       "      <td>Yes</td>\n",
       "      <td>Yes</td>\n",
       "      <td>44</td>\n",
       "      <td>Debit Card</td>\n",
       "      <td>Bi-Weekly</td>\n",
       "    </tr>\n",
       "    <tr>\n",
       "      <th>17</th>\n",
       "      <td>18</td>\n",
       "      <td>53</td>\n",
       "      <td>Male</td>\n",
       "      <td>Dress</td>\n",
       "      <td>Clothing</td>\n",
       "      <td>38</td>\n",
       "      <td>Mississippi</td>\n",
       "      <td>XL</td>\n",
       "      <td>Lavender</td>\n",
       "      <td>Winter</td>\n",
       "      <td>4.7</td>\n",
       "      <td>Yes</td>\n",
       "      <td>2-Day Shipping</td>\n",
       "      <td>Yes</td>\n",
       "      <td>Yes</td>\n",
       "      <td>36</td>\n",
       "      <td>Venmo</td>\n",
       "      <td>Quarterly</td>\n",
       "    </tr>\n",
       "    <tr>\n",
       "      <th>18</th>\n",
       "      <td>19</td>\n",
       "      <td>52</td>\n",
       "      <td>Male</td>\n",
       "      <td>Sweater</td>\n",
       "      <td>Clothing</td>\n",
       "      <td>48</td>\n",
       "      <td>Montana</td>\n",
       "      <td>S</td>\n",
       "      <td>Black</td>\n",
       "      <td>Summer</td>\n",
       "      <td>4.6</td>\n",
       "      <td>Yes</td>\n",
       "      <td>Free Shipping</td>\n",
       "      <td>Yes</td>\n",
       "      <td>Yes</td>\n",
       "      <td>17</td>\n",
       "      <td>Cash</td>\n",
       "      <td>Weekly</td>\n",
       "    </tr>\n",
       "    <tr>\n",
       "      <th>19</th>\n",
       "      <td>20</td>\n",
       "      <td>66</td>\n",
       "      <td>Male</td>\n",
       "      <td>Pants</td>\n",
       "      <td>Clothing</td>\n",
       "      <td>90</td>\n",
       "      <td>Rhode Island</td>\n",
       "      <td>M</td>\n",
       "      <td>Green</td>\n",
       "      <td>Summer</td>\n",
       "      <td>3.3</td>\n",
       "      <td>Yes</td>\n",
       "      <td>Standard</td>\n",
       "      <td>Yes</td>\n",
       "      <td>Yes</td>\n",
       "      <td>46</td>\n",
       "      <td>Debit Card</td>\n",
       "      <td>Bi-Weekly</td>\n",
       "    </tr>\n",
       "    <tr>\n",
       "      <th>20</th>\n",
       "      <td>21</td>\n",
       "      <td>21</td>\n",
       "      <td>Male</td>\n",
       "      <td>Pants</td>\n",
       "      <td>Clothing</td>\n",
       "      <td>51</td>\n",
       "      <td>Louisiana</td>\n",
       "      <td>M</td>\n",
       "      <td>Black</td>\n",
       "      <td>Winter</td>\n",
       "      <td>2.8</td>\n",
       "      <td>Yes</td>\n",
       "      <td>Express</td>\n",
       "      <td>Yes</td>\n",
       "      <td>Yes</td>\n",
       "      <td>50</td>\n",
       "      <td>Cash</td>\n",
       "      <td>Every 3 Months</td>\n",
       "    </tr>\n",
       "    <tr>\n",
       "      <th>21</th>\n",
       "      <td>22</td>\n",
       "      <td>31</td>\n",
       "      <td>Male</td>\n",
       "      <td>Pants</td>\n",
       "      <td>Clothing</td>\n",
       "      <td>62</td>\n",
       "      <td>North Carolina</td>\n",
       "      <td>M</td>\n",
       "      <td>Charcoal</td>\n",
       "      <td>Winter</td>\n",
       "      <td>4.1</td>\n",
       "      <td>Yes</td>\n",
       "      <td>Store Pickup</td>\n",
       "      <td>Yes</td>\n",
       "      <td>Yes</td>\n",
       "      <td>22</td>\n",
       "      <td>Debit Card</td>\n",
       "      <td>Quarterly</td>\n",
       "    </tr>\n",
       "    <tr>\n",
       "      <th>22</th>\n",
       "      <td>23</td>\n",
       "      <td>56</td>\n",
       "      <td>Male</td>\n",
       "      <td>Pants</td>\n",
       "      <td>Clothing</td>\n",
       "      <td>37</td>\n",
       "      <td>California</td>\n",
       "      <td>M</td>\n",
       "      <td>Peach</td>\n",
       "      <td>Summer</td>\n",
       "      <td>3.2</td>\n",
       "      <td>Yes</td>\n",
       "      <td>Store Pickup</td>\n",
       "      <td>Yes</td>\n",
       "      <td>Yes</td>\n",
       "      <td>32</td>\n",
       "      <td>Debit Card</td>\n",
       "      <td>Annually</td>\n",
       "    </tr>\n",
       "    <tr>\n",
       "      <th>23</th>\n",
       "      <td>24</td>\n",
       "      <td>31</td>\n",
       "      <td>Male</td>\n",
       "      <td>Pants</td>\n",
       "      <td>Clothing</td>\n",
       "      <td>88</td>\n",
       "      <td>Oklahoma</td>\n",
       "      <td>XL</td>\n",
       "      <td>White</td>\n",
       "      <td>Winter</td>\n",
       "      <td>4.4</td>\n",
       "      <td>Yes</td>\n",
       "      <td>Express</td>\n",
       "      <td>Yes</td>\n",
       "      <td>Yes</td>\n",
       "      <td>40</td>\n",
       "      <td>Credit Card</td>\n",
       "      <td>Weekly</td>\n",
       "    </tr>\n",
       "    <tr>\n",
       "      <th>24</th>\n",
       "      <td>25</td>\n",
       "      <td>18</td>\n",
       "      <td>Male</td>\n",
       "      <td>Jacket</td>\n",
       "      <td>Outerwear</td>\n",
       "      <td>22</td>\n",
       "      <td>Florida</td>\n",
       "      <td>M</td>\n",
       "      <td>Green</td>\n",
       "      <td>Fall</td>\n",
       "      <td>2.9</td>\n",
       "      <td>Yes</td>\n",
       "      <td>Store Pickup</td>\n",
       "      <td>Yes</td>\n",
       "      <td>Yes</td>\n",
       "      <td>16</td>\n",
       "      <td>Debit Card</td>\n",
       "      <td>Weekly</td>\n",
       "    </tr>\n",
       "    <tr>\n",
       "      <th>25</th>\n",
       "      <td>26</td>\n",
       "      <td>18</td>\n",
       "      <td>Male</td>\n",
       "      <td>Hoodie</td>\n",
       "      <td>Clothing</td>\n",
       "      <td>25</td>\n",
       "      <td>Texas</td>\n",
       "      <td>M</td>\n",
       "      <td>Silver</td>\n",
       "      <td>Summer</td>\n",
       "      <td>3.6</td>\n",
       "      <td>Yes</td>\n",
       "      <td>Express</td>\n",
       "      <td>Yes</td>\n",
       "      <td>Yes</td>\n",
       "      <td>14</td>\n",
       "      <td>PayPal</td>\n",
       "      <td>Annually</td>\n",
       "    </tr>\n",
       "    <tr>\n",
       "      <th>26</th>\n",
       "      <td>27</td>\n",
       "      <td>38</td>\n",
       "      <td>Male</td>\n",
       "      <td>Jewelry</td>\n",
       "      <td>Accessories</td>\n",
       "      <td>20</td>\n",
       "      <td>Nevada</td>\n",
       "      <td>M</td>\n",
       "      <td>Red</td>\n",
       "      <td>Spring</td>\n",
       "      <td>3.6</td>\n",
       "      <td>Yes</td>\n",
       "      <td>Next Day Air</td>\n",
       "      <td>Yes</td>\n",
       "      <td>Yes</td>\n",
       "      <td>13</td>\n",
       "      <td>Credit Card</td>\n",
       "      <td>Annually</td>\n",
       "    </tr>\n",
       "    <tr>\n",
       "      <th>27</th>\n",
       "      <td>28</td>\n",
       "      <td>56</td>\n",
       "      <td>Male</td>\n",
       "      <td>Shorts</td>\n",
       "      <td>Clothing</td>\n",
       "      <td>56</td>\n",
       "      <td>Kentucky</td>\n",
       "      <td>L</td>\n",
       "      <td>Cyan</td>\n",
       "      <td>Summer</td>\n",
       "      <td>5.0</td>\n",
       "      <td>Yes</td>\n",
       "      <td>Next Day Air</td>\n",
       "      <td>Yes</td>\n",
       "      <td>Yes</td>\n",
       "      <td>7</td>\n",
       "      <td>Bank Transfer</td>\n",
       "      <td>Every 3 Months</td>\n",
       "    </tr>\n",
       "    <tr>\n",
       "      <th>28</th>\n",
       "      <td>29</td>\n",
       "      <td>54</td>\n",
       "      <td>Male</td>\n",
       "      <td>Handbag</td>\n",
       "      <td>Accessories</td>\n",
       "      <td>94</td>\n",
       "      <td>North Carolina</td>\n",
       "      <td>M</td>\n",
       "      <td>Gray</td>\n",
       "      <td>Fall</td>\n",
       "      <td>4.4</td>\n",
       "      <td>Yes</td>\n",
       "      <td>Free Shipping</td>\n",
       "      <td>Yes</td>\n",
       "      <td>Yes</td>\n",
       "      <td>41</td>\n",
       "      <td>PayPal</td>\n",
       "      <td>Every 3 Months</td>\n",
       "    </tr>\n",
       "    <tr>\n",
       "      <th>29</th>\n",
       "      <td>30</td>\n",
       "      <td>31</td>\n",
       "      <td>Male</td>\n",
       "      <td>Dress</td>\n",
       "      <td>Clothing</td>\n",
       "      <td>48</td>\n",
       "      <td>Wyoming</td>\n",
       "      <td>S</td>\n",
       "      <td>Black</td>\n",
       "      <td>Fall</td>\n",
       "      <td>4.1</td>\n",
       "      <td>Yes</td>\n",
       "      <td>Store Pickup</td>\n",
       "      <td>Yes</td>\n",
       "      <td>Yes</td>\n",
       "      <td>14</td>\n",
       "      <td>Credit Card</td>\n",
       "      <td>Weekly</td>\n",
       "    </tr>\n",
       "    <tr>\n",
       "      <th>30</th>\n",
       "      <td>31</td>\n",
       "      <td>57</td>\n",
       "      <td>Male</td>\n",
       "      <td>Jewelry</td>\n",
       "      <td>Accessories</td>\n",
       "      <td>31</td>\n",
       "      <td>North Carolina</td>\n",
       "      <td>L</td>\n",
       "      <td>Black</td>\n",
       "      <td>Winter</td>\n",
       "      <td>4.7</td>\n",
       "      <td>Yes</td>\n",
       "      <td>Standard</td>\n",
       "      <td>Yes</td>\n",
       "      <td>Yes</td>\n",
       "      <td>16</td>\n",
       "      <td>Credit Card</td>\n",
       "      <td>Monthly</td>\n",
       "    </tr>\n",
       "    <tr>\n",
       "      <th>31</th>\n",
       "      <td>32</td>\n",
       "      <td>33</td>\n",
       "      <td>Male</td>\n",
       "      <td>Dress</td>\n",
       "      <td>Clothing</td>\n",
       "      <td>79</td>\n",
       "      <td>West Virginia</td>\n",
       "      <td>L</td>\n",
       "      <td>Brown</td>\n",
       "      <td>Winter</td>\n",
       "      <td>4.7</td>\n",
       "      <td>Yes</td>\n",
       "      <td>Store Pickup</td>\n",
       "      <td>Yes</td>\n",
       "      <td>Yes</td>\n",
       "      <td>45</td>\n",
       "      <td>Venmo</td>\n",
       "      <td>Monthly</td>\n",
       "    </tr>\n",
       "    <tr>\n",
       "      <th>32</th>\n",
       "      <td>33</td>\n",
       "      <td>36</td>\n",
       "      <td>Male</td>\n",
       "      <td>Jacket</td>\n",
       "      <td>Outerwear</td>\n",
       "      <td>67</td>\n",
       "      <td>Kansas</td>\n",
       "      <td>M</td>\n",
       "      <td>Silver</td>\n",
       "      <td>Summer</td>\n",
       "      <td>4.9</td>\n",
       "      <td>Yes</td>\n",
       "      <td>Free Shipping</td>\n",
       "      <td>Yes</td>\n",
       "      <td>Yes</td>\n",
       "      <td>37</td>\n",
       "      <td>Venmo</td>\n",
       "      <td>Annually</td>\n",
       "    </tr>\n",
       "    <tr>\n",
       "      <th>33</th>\n",
       "      <td>34</td>\n",
       "      <td>54</td>\n",
       "      <td>Male</td>\n",
       "      <td>Pants</td>\n",
       "      <td>Clothing</td>\n",
       "      <td>38</td>\n",
       "      <td>Colorado</td>\n",
       "      <td>L</td>\n",
       "      <td>Green</td>\n",
       "      <td>Summer</td>\n",
       "      <td>3.3</td>\n",
       "      <td>Yes</td>\n",
       "      <td>Store Pickup</td>\n",
       "      <td>Yes</td>\n",
       "      <td>Yes</td>\n",
       "      <td>45</td>\n",
       "      <td>Cash</td>\n",
       "      <td>Quarterly</td>\n",
       "    </tr>\n",
       "    <tr>\n",
       "      <th>34</th>\n",
       "      <td>35</td>\n",
       "      <td>36</td>\n",
       "      <td>Male</td>\n",
       "      <td>T-shirt</td>\n",
       "      <td>Clothing</td>\n",
       "      <td>91</td>\n",
       "      <td>North Dakota</td>\n",
       "      <td>L</td>\n",
       "      <td>Violet</td>\n",
       "      <td>Spring</td>\n",
       "      <td>4.6</td>\n",
       "      <td>Yes</td>\n",
       "      <td>2-Day Shipping</td>\n",
       "      <td>Yes</td>\n",
       "      <td>Yes</td>\n",
       "      <td>38</td>\n",
       "      <td>PayPal</td>\n",
       "      <td>Quarterly</td>\n",
       "    </tr>\n",
       "    <tr>\n",
       "      <th>35</th>\n",
       "      <td>36</td>\n",
       "      <td>54</td>\n",
       "      <td>Male</td>\n",
       "      <td>Blouse</td>\n",
       "      <td>Clothing</td>\n",
       "      <td>33</td>\n",
       "      <td>Massachusetts</td>\n",
       "      <td>M</td>\n",
       "      <td>Cyan</td>\n",
       "      <td>Summer</td>\n",
       "      <td>4.0</td>\n",
       "      <td>Yes</td>\n",
       "      <td>2-Day Shipping</td>\n",
       "      <td>Yes</td>\n",
       "      <td>Yes</td>\n",
       "      <td>48</td>\n",
       "      <td>Credit Card</td>\n",
       "      <td>Bi-Weekly</td>\n",
       "    </tr>\n",
       "    <tr>\n",
       "      <th>36</th>\n",
       "      <td>37</td>\n",
       "      <td>35</td>\n",
       "      <td>Male</td>\n",
       "      <td>T-shirt</td>\n",
       "      <td>Clothing</td>\n",
       "      <td>69</td>\n",
       "      <td>Illinois</td>\n",
       "      <td>M</td>\n",
       "      <td>Maroon</td>\n",
       "      <td>Winter</td>\n",
       "      <td>4.6</td>\n",
       "      <td>Yes</td>\n",
       "      <td>Free Shipping</td>\n",
       "      <td>Yes</td>\n",
       "      <td>Yes</td>\n",
       "      <td>44</td>\n",
       "      <td>PayPal</td>\n",
       "      <td>Fortnightly</td>\n",
       "    </tr>\n",
       "    <tr>\n",
       "      <th>37</th>\n",
       "      <td>38</td>\n",
       "      <td>35</td>\n",
       "      <td>Male</td>\n",
       "      <td>Jeans</td>\n",
       "      <td>Clothing</td>\n",
       "      <td>45</td>\n",
       "      <td>Indiana</td>\n",
       "      <td>S</td>\n",
       "      <td>Cyan</td>\n",
       "      <td>Summer</td>\n",
       "      <td>2.8</td>\n",
       "      <td>Yes</td>\n",
       "      <td>Store Pickup</td>\n",
       "      <td>Yes</td>\n",
       "      <td>Yes</td>\n",
       "      <td>10</td>\n",
       "      <td>PayPal</td>\n",
       "      <td>Weekly</td>\n",
       "    </tr>\n",
       "    <tr>\n",
       "      <th>38</th>\n",
       "      <td>39</td>\n",
       "      <td>29</td>\n",
       "      <td>Male</td>\n",
       "      <td>Dress</td>\n",
       "      <td>Clothing</td>\n",
       "      <td>37</td>\n",
       "      <td>Florida</td>\n",
       "      <td>M</td>\n",
       "      <td>Red</td>\n",
       "      <td>Winter</td>\n",
       "      <td>3.7</td>\n",
       "      <td>Yes</td>\n",
       "      <td>2-Day Shipping</td>\n",
       "      <td>Yes</td>\n",
       "      <td>Yes</td>\n",
       "      <td>44</td>\n",
       "      <td>Venmo</td>\n",
       "      <td>Every 3 Months</td>\n",
       "    </tr>\n",
       "    <tr>\n",
       "      <th>39</th>\n",
       "      <td>40</td>\n",
       "      <td>70</td>\n",
       "      <td>Male</td>\n",
       "      <td>Pants</td>\n",
       "      <td>Clothing</td>\n",
       "      <td>60</td>\n",
       "      <td>Arizona</td>\n",
       "      <td>S</td>\n",
       "      <td>Turquoise</td>\n",
       "      <td>Summer</td>\n",
       "      <td>4.2</td>\n",
       "      <td>Yes</td>\n",
       "      <td>Express</td>\n",
       "      <td>Yes</td>\n",
       "      <td>Yes</td>\n",
       "      <td>18</td>\n",
       "      <td>Credit Card</td>\n",
       "      <td>Monthly</td>\n",
       "    </tr>\n",
       "    <tr>\n",
       "      <th>40</th>\n",
       "      <td>41</td>\n",
       "      <td>69</td>\n",
       "      <td>Male</td>\n",
       "      <td>Handbag</td>\n",
       "      <td>Accessories</td>\n",
       "      <td>76</td>\n",
       "      <td>Louisiana</td>\n",
       "      <td>L</td>\n",
       "      <td>Beige</td>\n",
       "      <td>Winter</td>\n",
       "      <td>4.6</td>\n",
       "      <td>Yes</td>\n",
       "      <td>Next Day Air</td>\n",
       "      <td>Yes</td>\n",
       "      <td>Yes</td>\n",
       "      <td>31</td>\n",
       "      <td>Debit Card</td>\n",
       "      <td>Quarterly</td>\n",
       "    </tr>\n",
       "    <tr>\n",
       "      <th>41</th>\n",
       "      <td>42</td>\n",
       "      <td>67</td>\n",
       "      <td>Male</td>\n",
       "      <td>Scarf</td>\n",
       "      <td>Accessories</td>\n",
       "      <td>39</td>\n",
       "      <td>Alaska</td>\n",
       "      <td>M</td>\n",
       "      <td>Orange</td>\n",
       "      <td>Spring</td>\n",
       "      <td>4.5</td>\n",
       "      <td>Yes</td>\n",
       "      <td>Standard</td>\n",
       "      <td>Yes</td>\n",
       "      <td>Yes</td>\n",
       "      <td>40</td>\n",
       "      <td>Venmo</td>\n",
       "      <td>Annually</td>\n",
       "    </tr>\n",
       "    <tr>\n",
       "      <th>42</th>\n",
       "      <td>43</td>\n",
       "      <td>20</td>\n",
       "      <td>Male</td>\n",
       "      <td>Coat</td>\n",
       "      <td>Outerwear</td>\n",
       "      <td>100</td>\n",
       "      <td>Tennessee</td>\n",
       "      <td>M</td>\n",
       "      <td>Beige</td>\n",
       "      <td>Spring</td>\n",
       "      <td>4.1</td>\n",
       "      <td>Yes</td>\n",
       "      <td>Free Shipping</td>\n",
       "      <td>Yes</td>\n",
       "      <td>Yes</td>\n",
       "      <td>15</td>\n",
       "      <td>PayPal</td>\n",
       "      <td>Annually</td>\n",
       "    </tr>\n",
       "    <tr>\n",
       "      <th>43</th>\n",
       "      <td>44</td>\n",
       "      <td>25</td>\n",
       "      <td>Male</td>\n",
       "      <td>Scarf</td>\n",
       "      <td>Accessories</td>\n",
       "      <td>69</td>\n",
       "      <td>Ohio</td>\n",
       "      <td>L</td>\n",
       "      <td>Lavender</td>\n",
       "      <td>Fall</td>\n",
       "      <td>3.7</td>\n",
       "      <td>Yes</td>\n",
       "      <td>Store Pickup</td>\n",
       "      <td>Yes</td>\n",
       "      <td>Yes</td>\n",
       "      <td>19</td>\n",
       "      <td>PayPal</td>\n",
       "      <td>Fortnightly</td>\n",
       "    </tr>\n",
       "    <tr>\n",
       "      <th>44</th>\n",
       "      <td>45</td>\n",
       "      <td>39</td>\n",
       "      <td>Male</td>\n",
       "      <td>Hat</td>\n",
       "      <td>Accessories</td>\n",
       "      <td>53</td>\n",
       "      <td>Kentucky</td>\n",
       "      <td>S</td>\n",
       "      <td>Silver</td>\n",
       "      <td>Summer</td>\n",
       "      <td>4.6</td>\n",
       "      <td>Yes</td>\n",
       "      <td>Free Shipping</td>\n",
       "      <td>Yes</td>\n",
       "      <td>Yes</td>\n",
       "      <td>45</td>\n",
       "      <td>PayPal</td>\n",
       "      <td>Weekly</td>\n",
       "    </tr>\n",
       "    <tr>\n",
       "      <th>45</th>\n",
       "      <td>46</td>\n",
       "      <td>50</td>\n",
       "      <td>Male</td>\n",
       "      <td>Socks</td>\n",
       "      <td>Clothing</td>\n",
       "      <td>21</td>\n",
       "      <td>Tennessee</td>\n",
       "      <td>XL</td>\n",
       "      <td>Indigo</td>\n",
       "      <td>Fall</td>\n",
       "      <td>2.9</td>\n",
       "      <td>Yes</td>\n",
       "      <td>2-Day Shipping</td>\n",
       "      <td>Yes</td>\n",
       "      <td>Yes</td>\n",
       "      <td>25</td>\n",
       "      <td>PayPal</td>\n",
       "      <td>Annually</td>\n",
       "    </tr>\n",
       "    <tr>\n",
       "      <th>46</th>\n",
       "      <td>47</td>\n",
       "      <td>57</td>\n",
       "      <td>Male</td>\n",
       "      <td>Shirt</td>\n",
       "      <td>Clothing</td>\n",
       "      <td>43</td>\n",
       "      <td>California</td>\n",
       "      <td>L</td>\n",
       "      <td>White</td>\n",
       "      <td>Summer</td>\n",
       "      <td>2.9</td>\n",
       "      <td>Yes</td>\n",
       "      <td>Store Pickup</td>\n",
       "      <td>Yes</td>\n",
       "      <td>Yes</td>\n",
       "      <td>45</td>\n",
       "      <td>Cash</td>\n",
       "      <td>Quarterly</td>\n",
       "    </tr>\n",
       "    <tr>\n",
       "      <th>47</th>\n",
       "      <td>48</td>\n",
       "      <td>55</td>\n",
       "      <td>Male</td>\n",
       "      <td>Jewelry</td>\n",
       "      <td>Accessories</td>\n",
       "      <td>54</td>\n",
       "      <td>Montana</td>\n",
       "      <td>M</td>\n",
       "      <td>Charcoal</td>\n",
       "      <td>Winter</td>\n",
       "      <td>4.5</td>\n",
       "      <td>Yes</td>\n",
       "      <td>Free Shipping</td>\n",
       "      <td>Yes</td>\n",
       "      <td>Yes</td>\n",
       "      <td>36</td>\n",
       "      <td>Cash</td>\n",
       "      <td>Weekly</td>\n",
       "    </tr>\n",
       "    <tr>\n",
       "      <th>48</th>\n",
       "      <td>49</td>\n",
       "      <td>42</td>\n",
       "      <td>Male</td>\n",
       "      <td>Shirt</td>\n",
       "      <td>Clothing</td>\n",
       "      <td>55</td>\n",
       "      <td>Nevada</td>\n",
       "      <td>M</td>\n",
       "      <td>Orange</td>\n",
       "      <td>Summer</td>\n",
       "      <td>2.7</td>\n",
       "      <td>Yes</td>\n",
       "      <td>Store Pickup</td>\n",
       "      <td>Yes</td>\n",
       "      <td>Yes</td>\n",
       "      <td>38</td>\n",
       "      <td>Cash</td>\n",
       "      <td>Monthly</td>\n",
       "    </tr>\n",
       "    <tr>\n",
       "      <th>49</th>\n",
       "      <td>50</td>\n",
       "      <td>68</td>\n",
       "      <td>Male</td>\n",
       "      <td>Hoodie</td>\n",
       "      <td>Clothing</td>\n",
       "      <td>30</td>\n",
       "      <td>New Jersey</td>\n",
       "      <td>S</td>\n",
       "      <td>Indigo</td>\n",
       "      <td>Spring</td>\n",
       "      <td>4.6</td>\n",
       "      <td>Yes</td>\n",
       "      <td>Next Day Air</td>\n",
       "      <td>Yes</td>\n",
       "      <td>Yes</td>\n",
       "      <td>34</td>\n",
       "      <td>Debit Card</td>\n",
       "      <td>Bi-Weekly</td>\n",
       "    </tr>\n",
       "  </tbody>\n",
       "</table>\n",
       "</div>"
      ],
      "text/plain": [
       "    Customer ID  Age Gender Item Purchased     Category  \\\n",
       "0             1   55   Male         Blouse     Clothing   \n",
       "1             2   19   Male        Sweater     Clothing   \n",
       "2             3   50   Male          Jeans     Clothing   \n",
       "3             4   21   Male        Sandals     Footwear   \n",
       "4             5   45   Male         Blouse     Clothing   \n",
       "5             6   46   Male       Sneakers     Footwear   \n",
       "6             7   63   Male          Shirt     Clothing   \n",
       "7             8   27   Male         Shorts     Clothing   \n",
       "8             9   26   Male           Coat    Outerwear   \n",
       "9            10   57   Male        Handbag  Accessories   \n",
       "10           11   53   Male          Shoes     Footwear   \n",
       "11           12   30   Male         Shorts     Clothing   \n",
       "12           13   61   Male           Coat    Outerwear   \n",
       "13           14   65   Male          Dress     Clothing   \n",
       "14           15   64   Male           Coat    Outerwear   \n",
       "15           16   64   Male          Skirt     Clothing   \n",
       "16           17   25   Male     Sunglasses  Accessories   \n",
       "17           18   53   Male          Dress     Clothing   \n",
       "18           19   52   Male        Sweater     Clothing   \n",
       "19           20   66   Male          Pants     Clothing   \n",
       "20           21   21   Male          Pants     Clothing   \n",
       "21           22   31   Male          Pants     Clothing   \n",
       "22           23   56   Male          Pants     Clothing   \n",
       "23           24   31   Male          Pants     Clothing   \n",
       "24           25   18   Male         Jacket    Outerwear   \n",
       "25           26   18   Male         Hoodie     Clothing   \n",
       "26           27   38   Male        Jewelry  Accessories   \n",
       "27           28   56   Male         Shorts     Clothing   \n",
       "28           29   54   Male        Handbag  Accessories   \n",
       "29           30   31   Male          Dress     Clothing   \n",
       "30           31   57   Male        Jewelry  Accessories   \n",
       "31           32   33   Male          Dress     Clothing   \n",
       "32           33   36   Male         Jacket    Outerwear   \n",
       "33           34   54   Male          Pants     Clothing   \n",
       "34           35   36   Male        T-shirt     Clothing   \n",
       "35           36   54   Male         Blouse     Clothing   \n",
       "36           37   35   Male        T-shirt     Clothing   \n",
       "37           38   35   Male          Jeans     Clothing   \n",
       "38           39   29   Male          Dress     Clothing   \n",
       "39           40   70   Male          Pants     Clothing   \n",
       "40           41   69   Male        Handbag  Accessories   \n",
       "41           42   67   Male          Scarf  Accessories   \n",
       "42           43   20   Male           Coat    Outerwear   \n",
       "43           44   25   Male          Scarf  Accessories   \n",
       "44           45   39   Male            Hat  Accessories   \n",
       "45           46   50   Male          Socks     Clothing   \n",
       "46           47   57   Male          Shirt     Clothing   \n",
       "47           48   55   Male        Jewelry  Accessories   \n",
       "48           49   42   Male          Shirt     Clothing   \n",
       "49           50   68   Male         Hoodie     Clothing   \n",
       "\n",
       "    Purchase Amount (USD)        Location Size      Color  Season  \\\n",
       "0                      53        Kentucky    L       Gray  Winter   \n",
       "1                      64           Maine    L     Maroon  Winter   \n",
       "2                      73   Massachusetts    S     Maroon  Spring   \n",
       "3                      90    Rhode Island    M     Maroon  Spring   \n",
       "4                      49          Oregon    M  Turquoise  Spring   \n",
       "5                      20         Wyoming    M      White  Summer   \n",
       "6                      85         Montana    M       Gray    Fall   \n",
       "7                      34       Louisiana    L   Charcoal  Winter   \n",
       "8                      97   West Virginia    L     Silver  Summer   \n",
       "9                      31        Missouri    M       Pink  Spring   \n",
       "10                     34        Arkansas    L     Purple    Fall   \n",
       "11                     68          Hawaii    S      Olive  Winter   \n",
       "12                     72        Delaware    M       Gold  Winter   \n",
       "13                     51   New Hampshire    M     Violet  Spring   \n",
       "14                     53        New York    L       Teal  Winter   \n",
       "15                     81    Rhode Island    M       Teal  Winter   \n",
       "16                     36         Alabama    S       Gray  Spring   \n",
       "17                     38     Mississippi   XL   Lavender  Winter   \n",
       "18                     48         Montana    S      Black  Summer   \n",
       "19                     90    Rhode Island    M      Green  Summer   \n",
       "20                     51       Louisiana    M      Black  Winter   \n",
       "21                     62  North Carolina    M   Charcoal  Winter   \n",
       "22                     37      California    M      Peach  Summer   \n",
       "23                     88        Oklahoma   XL      White  Winter   \n",
       "24                     22         Florida    M      Green    Fall   \n",
       "25                     25           Texas    M     Silver  Summer   \n",
       "26                     20          Nevada    M        Red  Spring   \n",
       "27                     56        Kentucky    L       Cyan  Summer   \n",
       "28                     94  North Carolina    M       Gray    Fall   \n",
       "29                     48         Wyoming    S      Black    Fall   \n",
       "30                     31  North Carolina    L      Black  Winter   \n",
       "31                     79   West Virginia    L      Brown  Winter   \n",
       "32                     67          Kansas    M     Silver  Summer   \n",
       "33                     38        Colorado    L      Green  Summer   \n",
       "34                     91    North Dakota    L     Violet  Spring   \n",
       "35                     33   Massachusetts    M       Cyan  Summer   \n",
       "36                     69        Illinois    M     Maroon  Winter   \n",
       "37                     45         Indiana    S       Cyan  Summer   \n",
       "38                     37         Florida    M        Red  Winter   \n",
       "39                     60         Arizona    S  Turquoise  Summer   \n",
       "40                     76       Louisiana    L      Beige  Winter   \n",
       "41                     39          Alaska    M     Orange  Spring   \n",
       "42                    100       Tennessee    M      Beige  Spring   \n",
       "43                     69            Ohio    L   Lavender    Fall   \n",
       "44                     53        Kentucky    S     Silver  Summer   \n",
       "45                     21       Tennessee   XL     Indigo    Fall   \n",
       "46                     43      California    L      White  Summer   \n",
       "47                     54         Montana    M   Charcoal  Winter   \n",
       "48                     55          Nevada    M     Orange  Summer   \n",
       "49                     30      New Jersey    S     Indigo  Spring   \n",
       "\n",
       "    Review Rating Subscription Status   Shipping Type Discount Applied  \\\n",
       "0             3.1                 Yes         Express              Yes   \n",
       "1             3.1                 Yes         Express              Yes   \n",
       "2             3.1                 Yes   Free Shipping              Yes   \n",
       "3             3.5                 Yes    Next Day Air              Yes   \n",
       "4             2.7                 Yes   Free Shipping              Yes   \n",
       "5             2.9                 Yes        Standard              Yes   \n",
       "6             3.2                 Yes   Free Shipping              Yes   \n",
       "7             3.2                 Yes   Free Shipping              Yes   \n",
       "8             2.6                 Yes         Express              Yes   \n",
       "9             4.8                 Yes  2-Day Shipping              Yes   \n",
       "10            4.1                 Yes    Store Pickup              Yes   \n",
       "11            4.9                 Yes    Store Pickup              Yes   \n",
       "12            4.5                 Yes         Express              Yes   \n",
       "13            4.7                 Yes         Express              Yes   \n",
       "14            4.7                 Yes   Free Shipping              Yes   \n",
       "15            2.8                 Yes    Store Pickup              Yes   \n",
       "16            4.1                 Yes    Next Day Air              Yes   \n",
       "17            4.7                 Yes  2-Day Shipping              Yes   \n",
       "18            4.6                 Yes   Free Shipping              Yes   \n",
       "19            3.3                 Yes        Standard              Yes   \n",
       "20            2.8                 Yes         Express              Yes   \n",
       "21            4.1                 Yes    Store Pickup              Yes   \n",
       "22            3.2                 Yes    Store Pickup              Yes   \n",
       "23            4.4                 Yes         Express              Yes   \n",
       "24            2.9                 Yes    Store Pickup              Yes   \n",
       "25            3.6                 Yes         Express              Yes   \n",
       "26            3.6                 Yes    Next Day Air              Yes   \n",
       "27            5.0                 Yes    Next Day Air              Yes   \n",
       "28            4.4                 Yes   Free Shipping              Yes   \n",
       "29            4.1                 Yes    Store Pickup              Yes   \n",
       "30            4.7                 Yes        Standard              Yes   \n",
       "31            4.7                 Yes    Store Pickup              Yes   \n",
       "32            4.9                 Yes   Free Shipping              Yes   \n",
       "33            3.3                 Yes    Store Pickup              Yes   \n",
       "34            4.6                 Yes  2-Day Shipping              Yes   \n",
       "35            4.0                 Yes  2-Day Shipping              Yes   \n",
       "36            4.6                 Yes   Free Shipping              Yes   \n",
       "37            2.8                 Yes    Store Pickup              Yes   \n",
       "38            3.7                 Yes  2-Day Shipping              Yes   \n",
       "39            4.2                 Yes         Express              Yes   \n",
       "40            4.6                 Yes    Next Day Air              Yes   \n",
       "41            4.5                 Yes        Standard              Yes   \n",
       "42            4.1                 Yes   Free Shipping              Yes   \n",
       "43            3.7                 Yes    Store Pickup              Yes   \n",
       "44            4.6                 Yes   Free Shipping              Yes   \n",
       "45            2.9                 Yes  2-Day Shipping              Yes   \n",
       "46            2.9                 Yes    Store Pickup              Yes   \n",
       "47            4.5                 Yes   Free Shipping              Yes   \n",
       "48            2.7                 Yes    Store Pickup              Yes   \n",
       "49            4.6                 Yes    Next Day Air              Yes   \n",
       "\n",
       "   Promo Code Used  Previous Purchases Payment Method Frequency of Purchases  \n",
       "0              Yes                  14          Venmo            Fortnightly  \n",
       "1              Yes                   2           Cash            Fortnightly  \n",
       "2              Yes                  23    Credit Card                 Weekly  \n",
       "3              Yes                  49         PayPal                 Weekly  \n",
       "4              Yes                  31         PayPal               Annually  \n",
       "5              Yes                  14          Venmo                 Weekly  \n",
       "6              Yes                  49           Cash              Quarterly  \n",
       "7              Yes                  19    Credit Card                 Weekly  \n",
       "8              Yes                   8          Venmo               Annually  \n",
       "9              Yes                   4           Cash              Quarterly  \n",
       "10             Yes                  26  Bank Transfer              Bi-Weekly  \n",
       "11             Yes                  10  Bank Transfer            Fortnightly  \n",
       "12             Yes                  37          Venmo            Fortnightly  \n",
       "13             Yes                  31         PayPal                 Weekly  \n",
       "14             Yes                  34     Debit Card                 Weekly  \n",
       "15             Yes                   8         PayPal                Monthly  \n",
       "16             Yes                  44     Debit Card              Bi-Weekly  \n",
       "17             Yes                  36          Venmo              Quarterly  \n",
       "18             Yes                  17           Cash                 Weekly  \n",
       "19             Yes                  46     Debit Card              Bi-Weekly  \n",
       "20             Yes                  50           Cash         Every 3 Months  \n",
       "21             Yes                  22     Debit Card              Quarterly  \n",
       "22             Yes                  32     Debit Card               Annually  \n",
       "23             Yes                  40    Credit Card                 Weekly  \n",
       "24             Yes                  16     Debit Card                 Weekly  \n",
       "25             Yes                  14         PayPal               Annually  \n",
       "26             Yes                  13    Credit Card               Annually  \n",
       "27             Yes                   7  Bank Transfer         Every 3 Months  \n",
       "28             Yes                  41         PayPal         Every 3 Months  \n",
       "29             Yes                  14    Credit Card                 Weekly  \n",
       "30             Yes                  16    Credit Card                Monthly  \n",
       "31             Yes                  45          Venmo                Monthly  \n",
       "32             Yes                  37          Venmo               Annually  \n",
       "33             Yes                  45           Cash              Quarterly  \n",
       "34             Yes                  38         PayPal              Quarterly  \n",
       "35             Yes                  48    Credit Card              Bi-Weekly  \n",
       "36             Yes                  44         PayPal            Fortnightly  \n",
       "37             Yes                  10         PayPal                 Weekly  \n",
       "38             Yes                  44          Venmo         Every 3 Months  \n",
       "39             Yes                  18    Credit Card                Monthly  \n",
       "40             Yes                  31     Debit Card              Quarterly  \n",
       "41             Yes                  40          Venmo               Annually  \n",
       "42             Yes                  15         PayPal               Annually  \n",
       "43             Yes                  19         PayPal            Fortnightly  \n",
       "44             Yes                  45         PayPal                 Weekly  \n",
       "45             Yes                  25         PayPal               Annually  \n",
       "46             Yes                  45           Cash              Quarterly  \n",
       "47             Yes                  36           Cash                 Weekly  \n",
       "48             Yes                  38           Cash                Monthly  \n",
       "49             Yes                  34     Debit Card              Bi-Weekly  "
      ]
     },
     "execution_count": 3,
     "metadata": {},
     "output_type": "execute_result"
    }
   ],
   "source": [
    "df.head(50)"
   ]
  },
  {
   "cell_type": "markdown",
   "id": "a342255a",
   "metadata": {
    "papermill": {
     "duration": 0.005557,
     "end_time": "2025-08-21T19:03:13.937067",
     "exception": false,
     "start_time": "2025-08-21T19:03:13.931510",
     "status": "completed"
    },
    "tags": []
   },
   "source": [
    "# Data Cleaning"
   ]
  },
  {
   "cell_type": "code",
   "execution_count": 4,
   "id": "32424fc1",
   "metadata": {
    "execution": {
     "iopub.execute_input": "2025-08-21T19:03:13.949538Z",
     "iopub.status.busy": "2025-08-21T19:03:13.949237Z",
     "iopub.status.idle": "2025-08-21T19:03:13.980791Z",
     "shell.execute_reply": "2025-08-21T19:03:13.979896Z"
    },
    "papermill": {
     "duration": 0.039646,
     "end_time": "2025-08-21T19:03:13.982331",
     "exception": false,
     "start_time": "2025-08-21T19:03:13.942685",
     "status": "completed"
    },
    "tags": []
   },
   "outputs": [
    {
     "name": "stdout",
     "output_type": "stream",
     "text": [
      "<class 'pandas.core.frame.DataFrame'>\n",
      "RangeIndex: 3900 entries, 0 to 3899\n",
      "Data columns (total 18 columns):\n",
      " #   Column                  Non-Null Count  Dtype  \n",
      "---  ------                  --------------  -----  \n",
      " 0   Customer ID             3900 non-null   int64  \n",
      " 1   Age                     3900 non-null   int64  \n",
      " 2   Gender                  3900 non-null   object \n",
      " 3   Item Purchased          3900 non-null   object \n",
      " 4   Category                3900 non-null   object \n",
      " 5   Purchase Amount (USD)   3900 non-null   int64  \n",
      " 6   Location                3900 non-null   object \n",
      " 7   Size                    3900 non-null   object \n",
      " 8   Color                   3900 non-null   object \n",
      " 9   Season                  3900 non-null   object \n",
      " 10  Review Rating           3900 non-null   float64\n",
      " 11  Subscription Status     3900 non-null   object \n",
      " 12  Shipping Type           3900 non-null   object \n",
      " 13  Discount Applied        3900 non-null   object \n",
      " 14  Promo Code Used         3900 non-null   object \n",
      " 15  Previous Purchases      3900 non-null   int64  \n",
      " 16  Payment Method          3900 non-null   object \n",
      " 17  Frequency of Purchases  3900 non-null   object \n",
      "dtypes: float64(1), int64(4), object(13)\n",
      "memory usage: 548.6+ KB\n"
     ]
    }
   ],
   "source": [
    "df.info()"
   ]
  },
  {
   "cell_type": "code",
   "execution_count": 5,
   "id": "8c51c4a6",
   "metadata": {
    "execution": {
     "iopub.execute_input": "2025-08-21T19:03:13.996969Z",
     "iopub.status.busy": "2025-08-21T19:03:13.996680Z",
     "iopub.status.idle": "2025-08-21T19:03:14.001612Z",
     "shell.execute_reply": "2025-08-21T19:03:14.001018Z"
    },
    "papermill": {
     "duration": 0.013906,
     "end_time": "2025-08-21T19:03:14.002607",
     "exception": false,
     "start_time": "2025-08-21T19:03:13.988701",
     "status": "completed"
    },
    "tags": []
   },
   "outputs": [
    {
     "data": {
      "text/plain": [
       "(3900, 18)"
      ]
     },
     "execution_count": 5,
     "metadata": {},
     "output_type": "execute_result"
    }
   ],
   "source": [
    "df.shape"
   ]
  },
  {
   "cell_type": "code",
   "execution_count": 6,
   "id": "887787b7",
   "metadata": {
    "execution": {
     "iopub.execute_input": "2025-08-21T19:03:14.016038Z",
     "iopub.status.busy": "2025-08-21T19:03:14.015757Z",
     "iopub.status.idle": "2025-08-21T19:03:14.023719Z",
     "shell.execute_reply": "2025-08-21T19:03:14.023106Z"
    },
    "papermill": {
     "duration": 0.01606,
     "end_time": "2025-08-21T19:03:14.024986",
     "exception": false,
     "start_time": "2025-08-21T19:03:14.008926",
     "status": "completed"
    },
    "tags": []
   },
   "outputs": [
    {
     "data": {
      "text/plain": [
       "Customer ID               0\n",
       "Age                       0\n",
       "Gender                    0\n",
       "Item Purchased            0\n",
       "Category                  0\n",
       "Purchase Amount (USD)     0\n",
       "Location                  0\n",
       "Size                      0\n",
       "Color                     0\n",
       "Season                    0\n",
       "Review Rating             0\n",
       "Subscription Status       0\n",
       "Shipping Type             0\n",
       "Discount Applied          0\n",
       "Promo Code Used           0\n",
       "Previous Purchases        0\n",
       "Payment Method            0\n",
       "Frequency of Purchases    0\n",
       "dtype: int64"
      ]
     },
     "execution_count": 6,
     "metadata": {},
     "output_type": "execute_result"
    }
   ],
   "source": [
    "df.isnull().sum()"
   ]
  },
  {
   "cell_type": "code",
   "execution_count": 7,
   "id": "6e08af11",
   "metadata": {
    "execution": {
     "iopub.execute_input": "2025-08-21T19:03:14.039977Z",
     "iopub.status.busy": "2025-08-21T19:03:14.039729Z",
     "iopub.status.idle": "2025-08-21T19:03:14.045825Z",
     "shell.execute_reply": "2025-08-21T19:03:14.045128Z"
    },
    "papermill": {
     "duration": 0.014331,
     "end_time": "2025-08-21T19:03:14.047048",
     "exception": false,
     "start_time": "2025-08-21T19:03:14.032717",
     "status": "completed"
    },
    "tags": []
   },
   "outputs": [
    {
     "data": {
      "text/plain": [
       "Customer ID                 int64\n",
       "Age                         int64\n",
       "Gender                     object\n",
       "Item Purchased             object\n",
       "Category                   object\n",
       "Purchase Amount (USD)       int64\n",
       "Location                   object\n",
       "Size                       object\n",
       "Color                      object\n",
       "Season                     object\n",
       "Review Rating             float64\n",
       "Subscription Status        object\n",
       "Shipping Type              object\n",
       "Discount Applied           object\n",
       "Promo Code Used            object\n",
       "Previous Purchases          int64\n",
       "Payment Method             object\n",
       "Frequency of Purchases     object\n",
       "dtype: object"
      ]
     },
     "execution_count": 7,
     "metadata": {},
     "output_type": "execute_result"
    }
   ],
   "source": [
    "df.dtypes"
   ]
  },
  {
   "cell_type": "code",
   "execution_count": 8,
   "id": "646d17d5",
   "metadata": {
    "execution": {
     "iopub.execute_input": "2025-08-21T19:03:14.060059Z",
     "iopub.status.busy": "2025-08-21T19:03:14.059840Z",
     "iopub.status.idle": "2025-08-21T19:03:14.068729Z",
     "shell.execute_reply": "2025-08-21T19:03:14.067723Z"
    },
    "papermill": {
     "duration": 0.016697,
     "end_time": "2025-08-21T19:03:14.070051",
     "exception": false,
     "start_time": "2025-08-21T19:03:14.053354",
     "status": "completed"
    },
    "tags": []
   },
   "outputs": [
    {
     "data": {
      "text/plain": [
       "0"
      ]
     },
     "execution_count": 8,
     "metadata": {},
     "output_type": "execute_result"
    }
   ],
   "source": [
    "df.duplicated().sum()"
   ]
  },
  {
   "cell_type": "markdown",
   "id": "0b0e198e",
   "metadata": {
    "papermill": {
     "duration": 0.006336,
     "end_time": "2025-08-21T19:03:14.083773",
     "exception": false,
     "start_time": "2025-08-21T19:03:14.077437",
     "status": "completed"
    },
    "tags": []
   },
   "source": [
    "# Exploratory Data Analysis\n"
   ]
  },
  {
   "cell_type": "code",
   "execution_count": 9,
   "id": "db11cd7a",
   "metadata": {
    "execution": {
     "iopub.execute_input": "2025-08-21T19:03:14.097221Z",
     "iopub.status.busy": "2025-08-21T19:03:14.096922Z",
     "iopub.status.idle": "2025-08-21T19:03:14.114169Z",
     "shell.execute_reply": "2025-08-21T19:03:14.113480Z"
    },
    "papermill": {
     "duration": 0.025507,
     "end_time": "2025-08-21T19:03:14.115341",
     "exception": false,
     "start_time": "2025-08-21T19:03:14.089834",
     "status": "completed"
    },
    "tags": []
   },
   "outputs": [
    {
     "data": {
      "text/html": [
       "<div>\n",
       "<style scoped>\n",
       "    .dataframe tbody tr th:only-of-type {\n",
       "        vertical-align: middle;\n",
       "    }\n",
       "\n",
       "    .dataframe tbody tr th {\n",
       "        vertical-align: top;\n",
       "    }\n",
       "\n",
       "    .dataframe thead th {\n",
       "        text-align: right;\n",
       "    }\n",
       "</style>\n",
       "<table border=\"1\" class=\"dataframe\">\n",
       "  <thead>\n",
       "    <tr style=\"text-align: right;\">\n",
       "      <th></th>\n",
       "      <th>Customer ID</th>\n",
       "      <th>Age</th>\n",
       "      <th>Gender</th>\n",
       "      <th>Item Purchased</th>\n",
       "      <th>Category</th>\n",
       "      <th>Purchase Amount (USD)</th>\n",
       "      <th>Location</th>\n",
       "      <th>Size</th>\n",
       "      <th>Color</th>\n",
       "      <th>Season</th>\n",
       "      <th>Review Rating</th>\n",
       "      <th>Subscription Status</th>\n",
       "      <th>Shipping Type</th>\n",
       "      <th>Discount Applied</th>\n",
       "      <th>Promo Code Used</th>\n",
       "      <th>Previous Purchases</th>\n",
       "      <th>Payment Method</th>\n",
       "      <th>Frequency of Purchases</th>\n",
       "    </tr>\n",
       "  </thead>\n",
       "  <tbody>\n",
       "    <tr>\n",
       "      <th>0</th>\n",
       "      <td>1</td>\n",
       "      <td>55</td>\n",
       "      <td>Male</td>\n",
       "      <td>Blouse</td>\n",
       "      <td>Clothing</td>\n",
       "      <td>53</td>\n",
       "      <td>Kentucky</td>\n",
       "      <td>L</td>\n",
       "      <td>Gray</td>\n",
       "      <td>Winter</td>\n",
       "      <td>3.1</td>\n",
       "      <td>Yes</td>\n",
       "      <td>Express</td>\n",
       "      <td>Yes</td>\n",
       "      <td>Yes</td>\n",
       "      <td>14</td>\n",
       "      <td>Venmo</td>\n",
       "      <td>Fortnightly</td>\n",
       "    </tr>\n",
       "    <tr>\n",
       "      <th>1</th>\n",
       "      <td>2</td>\n",
       "      <td>19</td>\n",
       "      <td>Male</td>\n",
       "      <td>Sweater</td>\n",
       "      <td>Clothing</td>\n",
       "      <td>64</td>\n",
       "      <td>Maine</td>\n",
       "      <td>L</td>\n",
       "      <td>Maroon</td>\n",
       "      <td>Winter</td>\n",
       "      <td>3.1</td>\n",
       "      <td>Yes</td>\n",
       "      <td>Express</td>\n",
       "      <td>Yes</td>\n",
       "      <td>Yes</td>\n",
       "      <td>2</td>\n",
       "      <td>Cash</td>\n",
       "      <td>Fortnightly</td>\n",
       "    </tr>\n",
       "    <tr>\n",
       "      <th>2</th>\n",
       "      <td>3</td>\n",
       "      <td>50</td>\n",
       "      <td>Male</td>\n",
       "      <td>Jeans</td>\n",
       "      <td>Clothing</td>\n",
       "      <td>73</td>\n",
       "      <td>Massachusetts</td>\n",
       "      <td>S</td>\n",
       "      <td>Maroon</td>\n",
       "      <td>Spring</td>\n",
       "      <td>3.1</td>\n",
       "      <td>Yes</td>\n",
       "      <td>Free Shipping</td>\n",
       "      <td>Yes</td>\n",
       "      <td>Yes</td>\n",
       "      <td>23</td>\n",
       "      <td>Credit Card</td>\n",
       "      <td>Weekly</td>\n",
       "    </tr>\n",
       "    <tr>\n",
       "      <th>3</th>\n",
       "      <td>4</td>\n",
       "      <td>21</td>\n",
       "      <td>Male</td>\n",
       "      <td>Sandals</td>\n",
       "      <td>Footwear</td>\n",
       "      <td>90</td>\n",
       "      <td>Rhode Island</td>\n",
       "      <td>M</td>\n",
       "      <td>Maroon</td>\n",
       "      <td>Spring</td>\n",
       "      <td>3.5</td>\n",
       "      <td>Yes</td>\n",
       "      <td>Next Day Air</td>\n",
       "      <td>Yes</td>\n",
       "      <td>Yes</td>\n",
       "      <td>49</td>\n",
       "      <td>PayPal</td>\n",
       "      <td>Weekly</td>\n",
       "    </tr>\n",
       "    <tr>\n",
       "      <th>4</th>\n",
       "      <td>5</td>\n",
       "      <td>45</td>\n",
       "      <td>Male</td>\n",
       "      <td>Blouse</td>\n",
       "      <td>Clothing</td>\n",
       "      <td>49</td>\n",
       "      <td>Oregon</td>\n",
       "      <td>M</td>\n",
       "      <td>Turquoise</td>\n",
       "      <td>Spring</td>\n",
       "      <td>2.7</td>\n",
       "      <td>Yes</td>\n",
       "      <td>Free Shipping</td>\n",
       "      <td>Yes</td>\n",
       "      <td>Yes</td>\n",
       "      <td>31</td>\n",
       "      <td>PayPal</td>\n",
       "      <td>Annually</td>\n",
       "    </tr>\n",
       "    <tr>\n",
       "      <th>...</th>\n",
       "      <td>...</td>\n",
       "      <td>...</td>\n",
       "      <td>...</td>\n",
       "      <td>...</td>\n",
       "      <td>...</td>\n",
       "      <td>...</td>\n",
       "      <td>...</td>\n",
       "      <td>...</td>\n",
       "      <td>...</td>\n",
       "      <td>...</td>\n",
       "      <td>...</td>\n",
       "      <td>...</td>\n",
       "      <td>...</td>\n",
       "      <td>...</td>\n",
       "      <td>...</td>\n",
       "      <td>...</td>\n",
       "      <td>...</td>\n",
       "      <td>...</td>\n",
       "    </tr>\n",
       "    <tr>\n",
       "      <th>3895</th>\n",
       "      <td>3896</td>\n",
       "      <td>40</td>\n",
       "      <td>Female</td>\n",
       "      <td>Hoodie</td>\n",
       "      <td>Clothing</td>\n",
       "      <td>28</td>\n",
       "      <td>Virginia</td>\n",
       "      <td>L</td>\n",
       "      <td>Turquoise</td>\n",
       "      <td>Summer</td>\n",
       "      <td>4.2</td>\n",
       "      <td>No</td>\n",
       "      <td>2-Day Shipping</td>\n",
       "      <td>No</td>\n",
       "      <td>No</td>\n",
       "      <td>32</td>\n",
       "      <td>Venmo</td>\n",
       "      <td>Weekly</td>\n",
       "    </tr>\n",
       "    <tr>\n",
       "      <th>3896</th>\n",
       "      <td>3897</td>\n",
       "      <td>52</td>\n",
       "      <td>Female</td>\n",
       "      <td>Backpack</td>\n",
       "      <td>Accessories</td>\n",
       "      <td>49</td>\n",
       "      <td>Iowa</td>\n",
       "      <td>L</td>\n",
       "      <td>White</td>\n",
       "      <td>Spring</td>\n",
       "      <td>4.5</td>\n",
       "      <td>No</td>\n",
       "      <td>Store Pickup</td>\n",
       "      <td>No</td>\n",
       "      <td>No</td>\n",
       "      <td>41</td>\n",
       "      <td>Bank Transfer</td>\n",
       "      <td>Bi-Weekly</td>\n",
       "    </tr>\n",
       "    <tr>\n",
       "      <th>3897</th>\n",
       "      <td>3898</td>\n",
       "      <td>46</td>\n",
       "      <td>Female</td>\n",
       "      <td>Belt</td>\n",
       "      <td>Accessories</td>\n",
       "      <td>33</td>\n",
       "      <td>New Jersey</td>\n",
       "      <td>L</td>\n",
       "      <td>Green</td>\n",
       "      <td>Spring</td>\n",
       "      <td>2.9</td>\n",
       "      <td>No</td>\n",
       "      <td>Standard</td>\n",
       "      <td>No</td>\n",
       "      <td>No</td>\n",
       "      <td>24</td>\n",
       "      <td>Venmo</td>\n",
       "      <td>Quarterly</td>\n",
       "    </tr>\n",
       "    <tr>\n",
       "      <th>3898</th>\n",
       "      <td>3899</td>\n",
       "      <td>44</td>\n",
       "      <td>Female</td>\n",
       "      <td>Shoes</td>\n",
       "      <td>Footwear</td>\n",
       "      <td>77</td>\n",
       "      <td>Minnesota</td>\n",
       "      <td>S</td>\n",
       "      <td>Brown</td>\n",
       "      <td>Summer</td>\n",
       "      <td>3.8</td>\n",
       "      <td>No</td>\n",
       "      <td>Express</td>\n",
       "      <td>No</td>\n",
       "      <td>No</td>\n",
       "      <td>24</td>\n",
       "      <td>Venmo</td>\n",
       "      <td>Weekly</td>\n",
       "    </tr>\n",
       "    <tr>\n",
       "      <th>3899</th>\n",
       "      <td>3900</td>\n",
       "      <td>52</td>\n",
       "      <td>Female</td>\n",
       "      <td>Handbag</td>\n",
       "      <td>Accessories</td>\n",
       "      <td>81</td>\n",
       "      <td>California</td>\n",
       "      <td>M</td>\n",
       "      <td>Beige</td>\n",
       "      <td>Spring</td>\n",
       "      <td>3.1</td>\n",
       "      <td>No</td>\n",
       "      <td>Store Pickup</td>\n",
       "      <td>No</td>\n",
       "      <td>No</td>\n",
       "      <td>33</td>\n",
       "      <td>Venmo</td>\n",
       "      <td>Quarterly</td>\n",
       "    </tr>\n",
       "  </tbody>\n",
       "</table>\n",
       "<p>3900 rows × 18 columns</p>\n",
       "</div>"
      ],
      "text/plain": [
       "      Customer ID  Age  Gender Item Purchased     Category  \\\n",
       "0               1   55    Male         Blouse     Clothing   \n",
       "1               2   19    Male        Sweater     Clothing   \n",
       "2               3   50    Male          Jeans     Clothing   \n",
       "3               4   21    Male        Sandals     Footwear   \n",
       "4               5   45    Male         Blouse     Clothing   \n",
       "...           ...  ...     ...            ...          ...   \n",
       "3895         3896   40  Female         Hoodie     Clothing   \n",
       "3896         3897   52  Female       Backpack  Accessories   \n",
       "3897         3898   46  Female           Belt  Accessories   \n",
       "3898         3899   44  Female          Shoes     Footwear   \n",
       "3899         3900   52  Female        Handbag  Accessories   \n",
       "\n",
       "      Purchase Amount (USD)       Location Size      Color  Season  \\\n",
       "0                        53       Kentucky    L       Gray  Winter   \n",
       "1                        64          Maine    L     Maroon  Winter   \n",
       "2                        73  Massachusetts    S     Maroon  Spring   \n",
       "3                        90   Rhode Island    M     Maroon  Spring   \n",
       "4                        49         Oregon    M  Turquoise  Spring   \n",
       "...                     ...            ...  ...        ...     ...   \n",
       "3895                     28       Virginia    L  Turquoise  Summer   \n",
       "3896                     49           Iowa    L      White  Spring   \n",
       "3897                     33     New Jersey    L      Green  Spring   \n",
       "3898                     77      Minnesota    S      Brown  Summer   \n",
       "3899                     81     California    M      Beige  Spring   \n",
       "\n",
       "      Review Rating Subscription Status   Shipping Type Discount Applied  \\\n",
       "0               3.1                 Yes         Express              Yes   \n",
       "1               3.1                 Yes         Express              Yes   \n",
       "2               3.1                 Yes   Free Shipping              Yes   \n",
       "3               3.5                 Yes    Next Day Air              Yes   \n",
       "4               2.7                 Yes   Free Shipping              Yes   \n",
       "...             ...                 ...             ...              ...   \n",
       "3895            4.2                  No  2-Day Shipping               No   \n",
       "3896            4.5                  No    Store Pickup               No   \n",
       "3897            2.9                  No        Standard               No   \n",
       "3898            3.8                  No         Express               No   \n",
       "3899            3.1                  No    Store Pickup               No   \n",
       "\n",
       "     Promo Code Used  Previous Purchases Payment Method Frequency of Purchases  \n",
       "0                Yes                  14          Venmo            Fortnightly  \n",
       "1                Yes                   2           Cash            Fortnightly  \n",
       "2                Yes                  23    Credit Card                 Weekly  \n",
       "3                Yes                  49         PayPal                 Weekly  \n",
       "4                Yes                  31         PayPal               Annually  \n",
       "...              ...                 ...            ...                    ...  \n",
       "3895              No                  32          Venmo                 Weekly  \n",
       "3896              No                  41  Bank Transfer              Bi-Weekly  \n",
       "3897              No                  24          Venmo              Quarterly  \n",
       "3898              No                  24          Venmo                 Weekly  \n",
       "3899              No                  33          Venmo              Quarterly  \n",
       "\n",
       "[3900 rows x 18 columns]"
      ]
     },
     "execution_count": 9,
     "metadata": {},
     "output_type": "execute_result"
    }
   ],
   "source": [
    "df"
   ]
  },
  {
   "cell_type": "code",
   "execution_count": 10,
   "id": "80ddf877",
   "metadata": {
    "execution": {
     "iopub.execute_input": "2025-08-21T19:03:14.129749Z",
     "iopub.status.busy": "2025-08-21T19:03:14.129472Z",
     "iopub.status.idle": "2025-08-21T19:03:14.148088Z",
     "shell.execute_reply": "2025-08-21T19:03:14.147380Z"
    },
    "papermill": {
     "duration": 0.027079,
     "end_time": "2025-08-21T19:03:14.149284",
     "exception": false,
     "start_time": "2025-08-21T19:03:14.122205",
     "status": "completed"
    },
    "tags": []
   },
   "outputs": [
    {
     "data": {
      "text/html": [
       "<div>\n",
       "<style scoped>\n",
       "    .dataframe tbody tr th:only-of-type {\n",
       "        vertical-align: middle;\n",
       "    }\n",
       "\n",
       "    .dataframe tbody tr th {\n",
       "        vertical-align: top;\n",
       "    }\n",
       "\n",
       "    .dataframe thead th {\n",
       "        text-align: right;\n",
       "    }\n",
       "</style>\n",
       "<table border=\"1\" class=\"dataframe\">\n",
       "  <thead>\n",
       "    <tr style=\"text-align: right;\">\n",
       "      <th></th>\n",
       "      <th>Customer ID</th>\n",
       "      <th>Age</th>\n",
       "      <th>Purchase Amount (USD)</th>\n",
       "      <th>Review Rating</th>\n",
       "      <th>Previous Purchases</th>\n",
       "    </tr>\n",
       "  </thead>\n",
       "  <tbody>\n",
       "    <tr>\n",
       "      <th>count</th>\n",
       "      <td>3900.000000</td>\n",
       "      <td>3900.000000</td>\n",
       "      <td>3900.000000</td>\n",
       "      <td>3900.000000</td>\n",
       "      <td>3900.000000</td>\n",
       "    </tr>\n",
       "    <tr>\n",
       "      <th>mean</th>\n",
       "      <td>1950.500000</td>\n",
       "      <td>44.068462</td>\n",
       "      <td>59.764359</td>\n",
       "      <td>3.749949</td>\n",
       "      <td>25.351538</td>\n",
       "    </tr>\n",
       "    <tr>\n",
       "      <th>std</th>\n",
       "      <td>1125.977353</td>\n",
       "      <td>15.207589</td>\n",
       "      <td>23.685392</td>\n",
       "      <td>0.716223</td>\n",
       "      <td>14.447125</td>\n",
       "    </tr>\n",
       "    <tr>\n",
       "      <th>min</th>\n",
       "      <td>1.000000</td>\n",
       "      <td>18.000000</td>\n",
       "      <td>20.000000</td>\n",
       "      <td>2.500000</td>\n",
       "      <td>1.000000</td>\n",
       "    </tr>\n",
       "    <tr>\n",
       "      <th>25%</th>\n",
       "      <td>975.750000</td>\n",
       "      <td>31.000000</td>\n",
       "      <td>39.000000</td>\n",
       "      <td>3.100000</td>\n",
       "      <td>13.000000</td>\n",
       "    </tr>\n",
       "    <tr>\n",
       "      <th>50%</th>\n",
       "      <td>1950.500000</td>\n",
       "      <td>44.000000</td>\n",
       "      <td>60.000000</td>\n",
       "      <td>3.700000</td>\n",
       "      <td>25.000000</td>\n",
       "    </tr>\n",
       "    <tr>\n",
       "      <th>75%</th>\n",
       "      <td>2925.250000</td>\n",
       "      <td>57.000000</td>\n",
       "      <td>81.000000</td>\n",
       "      <td>4.400000</td>\n",
       "      <td>38.000000</td>\n",
       "    </tr>\n",
       "    <tr>\n",
       "      <th>max</th>\n",
       "      <td>3900.000000</td>\n",
       "      <td>70.000000</td>\n",
       "      <td>100.000000</td>\n",
       "      <td>5.000000</td>\n",
       "      <td>50.000000</td>\n",
       "    </tr>\n",
       "  </tbody>\n",
       "</table>\n",
       "</div>"
      ],
      "text/plain": [
       "       Customer ID          Age  Purchase Amount (USD)  Review Rating  \\\n",
       "count  3900.000000  3900.000000            3900.000000    3900.000000   \n",
       "mean   1950.500000    44.068462              59.764359       3.749949   \n",
       "std    1125.977353    15.207589              23.685392       0.716223   \n",
       "min       1.000000    18.000000              20.000000       2.500000   \n",
       "25%     975.750000    31.000000              39.000000       3.100000   \n",
       "50%    1950.500000    44.000000              60.000000       3.700000   \n",
       "75%    2925.250000    57.000000              81.000000       4.400000   \n",
       "max    3900.000000    70.000000             100.000000       5.000000   \n",
       "\n",
       "       Previous Purchases  \n",
       "count         3900.000000  \n",
       "mean            25.351538  \n",
       "std             14.447125  \n",
       "min              1.000000  \n",
       "25%             13.000000  \n",
       "50%             25.000000  \n",
       "75%             38.000000  \n",
       "max             50.000000  "
      ]
     },
     "execution_count": 10,
     "metadata": {},
     "output_type": "execute_result"
    }
   ],
   "source": [
    "df.describe()"
   ]
  },
  {
   "cell_type": "markdown",
   "id": "590f1b03",
   "metadata": {
    "papermill": {
     "duration": 0.006472,
     "end_time": "2025-08-21T19:03:14.163428",
     "exception": false,
     "start_time": "2025-08-21T19:03:14.156956",
     "status": "completed"
    },
    "tags": []
   },
   "source": [
    "# Data Visualization\n"
   ]
  },
  {
   "cell_type": "code",
   "execution_count": 11,
   "id": "7dd58691",
   "metadata": {
    "execution": {
     "iopub.execute_input": "2025-08-21T19:03:14.176822Z",
     "iopub.status.busy": "2025-08-21T19:03:14.176601Z",
     "iopub.status.idle": "2025-08-21T19:03:14.514685Z",
     "shell.execute_reply": "2025-08-21T19:03:14.514130Z"
    },
    "papermill": {
     "duration": 0.346224,
     "end_time": "2025-08-21T19:03:14.515878",
     "exception": false,
     "start_time": "2025-08-21T19:03:14.169654",
     "status": "completed"
    },
    "tags": []
   },
   "outputs": [
    {
     "data": {
      "image/png": "[encoded data removed]",
      "text/plain": [
       "<Figure size 640x480 with 1 Axes>"
      ]
     },
     "metadata": {},
     "output_type": "display_data"
    }
   ],
   "source": [
    "plt.hist(df['Age'], bins = 20, color = 'skyblue', edgecolor = 'black', alpha = 0.7)\n",
    "plt.title('Age Distribution')\n",
    "plt.xlabel('Age')\n",
    "plt.ylabel('Frequency')\n",
    "plt.grid(axis = 'y', linestyle = '--', alpha = 0.7)\n",
    "plt.show()"
   ]
  },
  {
   "cell_type": "markdown",
   "id": "999e46cc",
   "metadata": {
    "papermill": {
     "duration": 0.063118,
     "end_time": "2025-08-21T19:03:14.586252",
     "exception": false,
     "start_time": "2025-08-21T19:03:14.523134",
     "status": "completed"
    },
    "tags": []
   },
   "source": [
    "* Müşteriler geniş yaş aralıklarına dağılmış durumda.\n",
    "\n",
    "* En yoğun müşteri kitlesi genç yetişkinlerden (25–30) ve orta yaş grubundan (35–50) geliyor.\n",
    "\n",
    "* Yaş dağılımı çok dengesiz değil; bu da şirketin farklı yaşlardan müşteri çekebildiğini gösteriyor."
   ]
  },
  {
   "cell_type": "code",
   "execution_count": 12,
   "id": "b39638b4",
   "metadata": {
    "execution": {
     "iopub.execute_input": "2025-08-21T19:03:14.601668Z",
     "iopub.status.busy": "2025-08-21T19:03:14.601366Z",
     "iopub.status.idle": "2025-08-21T19:03:14.608040Z",
     "shell.execute_reply": "2025-08-21T19:03:14.607429Z"
    },
    "papermill": {
     "duration": 0.015944,
     "end_time": "2025-08-21T19:03:14.609300",
     "exception": false,
     "start_time": "2025-08-21T19:03:14.593356",
     "status": "completed"
    },
    "tags": []
   },
   "outputs": [],
   "source": [
    "df_average_purchase_by_gender = df.groupby('Gender')['Purchase Amount (USD)'].mean()"
   ]
  },
  {
   "cell_type": "code",
   "execution_count": 13,
   "id": "82a83aa1",
   "metadata": {
    "execution": {
     "iopub.execute_input": "2025-08-21T19:03:14.624726Z",
     "iopub.status.busy": "2025-08-21T19:03:14.624417Z",
     "iopub.status.idle": "2025-08-21T19:03:14.630000Z",
     "shell.execute_reply": "2025-08-21T19:03:14.629330Z"
    },
    "papermill": {
     "duration": 0.014829,
     "end_time": "2025-08-21T19:03:14.631440",
     "exception": false,
     "start_time": "2025-08-21T19:03:14.616611",
     "status": "completed"
    },
    "tags": []
   },
   "outputs": [
    {
     "data": {
      "text/plain": [
       "Gender\n",
       "Female    60.249199\n",
       "Male      59.536199\n",
       "Name: Purchase Amount (USD), dtype: float64"
      ]
     },
     "execution_count": 13,
     "metadata": {},
     "output_type": "execute_result"
    }
   ],
   "source": [
    "df_average_purchase_by_gender"
   ]
  },
  {
   "cell_type": "code",
   "execution_count": 14,
   "id": "d6e0effd",
   "metadata": {
    "execution": {
     "iopub.execute_input": "2025-08-21T19:03:14.647534Z",
     "iopub.status.busy": "2025-08-21T19:03:14.647238Z",
     "iopub.status.idle": "2025-08-21T19:03:14.749141Z",
     "shell.execute_reply": "2025-08-21T19:03:14.748454Z"
    },
    "papermill": {
     "duration": 0.111693,
     "end_time": "2025-08-21T19:03:14.750886",
     "exception": false,
     "start_time": "2025-08-21T19:03:14.639193",
     "status": "completed"
    },
    "tags": []
   },
   "outputs": [
    {
     "data": {
      "image/png": "[encoded data removed]",
      "text/plain": [
       "<Figure size 640x480 with 1 Axes>"
      ]
     },
     "metadata": {},
     "output_type": "display_data"
    }
   ],
   "source": [
    "plt.bar(df_average_purchase_by_gender.index, df_average_purchase_by_gender.values,  color = 'skyblue', edgecolor = 'black', alpha = 0.7)\n",
    "plt.title('Average Purchase By Gender')\n",
    "plt.xlabel('Gender')\n",
    "plt.ylabel('Average Purchase')\n",
    "plt.grid(axis = 'y', linestyle = '--', alpha = 0.7)\n",
    "plt.show()"
   ]
  },
  {
   "cell_type": "markdown",
   "id": "a48185e5",
   "metadata": {
    "papermill": {
     "duration": 0.006978,
     "end_time": "2025-08-21T19:03:14.765695",
     "exception": false,
     "start_time": "2025-08-21T19:03:14.758717",
     "status": "completed"
    },
    "tags": []
   },
   "source": [
    "* Harcama davranışları cinsiyetler arasında büyük farklılık göstermiyor.\n",
    "\n",
    "* Bu da, pazarlama stratejilerinde cinsiyetten çok yaş, gelir, lokasyon veya alışveriş kategorisi gibi değişkenlerin daha belirleyici olabileceğini gösteriyor."
   ]
  },
  {
   "cell_type": "code",
   "execution_count": 15,
   "id": "18cbd0bd",
   "metadata": {
    "execution": {
     "iopub.execute_input": "2025-08-21T19:03:14.782090Z",
     "iopub.status.busy": "2025-08-21T19:03:14.781842Z",
     "iopub.status.idle": "2025-08-21T19:03:14.787476Z",
     "shell.execute_reply": "2025-08-21T19:03:14.786586Z"
    },
    "papermill": {
     "duration": 0.015666,
     "end_time": "2025-08-21T19:03:14.788714",
     "exception": false,
     "start_time": "2025-08-21T19:03:14.773048",
     "status": "completed"
    },
    "tags": []
   },
   "outputs": [],
   "source": [
    "df_average_purchase_by_category = df.groupby('Category')['Purchase Amount (USD)'].mean()"
   ]
  },
  {
   "cell_type": "code",
   "execution_count": 16,
   "id": "250d480f",
   "metadata": {
    "execution": {
     "iopub.execute_input": "2025-08-21T19:03:14.805255Z",
     "iopub.status.busy": "2025-08-21T19:03:14.804984Z",
     "iopub.status.idle": "2025-08-21T19:03:14.810736Z",
     "shell.execute_reply": "2025-08-21T19:03:14.810145Z"
    },
    "papermill": {
     "duration": 0.015156,
     "end_time": "2025-08-21T19:03:14.811832",
     "exception": false,
     "start_time": "2025-08-21T19:03:14.796676",
     "status": "completed"
    },
    "tags": []
   },
   "outputs": [
    {
     "data": {
      "text/plain": [
       "Category\n",
       "Accessories    59.838710\n",
       "Clothing       60.025331\n",
       "Footwear       60.255426\n",
       "Outerwear      57.172840\n",
       "Name: Purchase Amount (USD), dtype: float64"
      ]
     },
     "execution_count": 16,
     "metadata": {},
     "output_type": "execute_result"
    }
   ],
   "source": [
    "df_average_purchase_by_category"
   ]
  },
  {
   "cell_type": "code",
   "execution_count": 17,
   "id": "ea751522",
   "metadata": {
    "execution": {
     "iopub.execute_input": "2025-08-21T19:03:14.828452Z",
     "iopub.status.busy": "2025-08-21T19:03:14.828131Z",
     "iopub.status.idle": "2025-08-21T19:03:14.931079Z",
     "shell.execute_reply": "2025-08-21T19:03:14.930463Z"
    },
    "papermill": {
     "duration": 0.112361,
     "end_time": "2025-08-21T19:03:14.932179",
     "exception": false,
     "start_time": "2025-08-21T19:03:14.819818",
     "status": "completed"
    },
    "tags": []
   },
   "outputs": [
    {
     "data": {
      "image/png": "[encoded data removed]",
      "text/plain": [
       "<Figure size 640x480 with 1 Axes>"
      ]
     },
     "metadata": {},
     "output_type": "display_data"
    }
   ],
   "source": [
    "def absolute_value(val):\n",
    "    total = sum(df_average_purchase_by_category)\n",
    "    absolute = float(round(val/100*total, 2))\n",
    "    return str(absolute)\n",
    "\n",
    "\n",
    "plt.pie(\n",
    "    df_average_purchase_by_category,\n",
    "    labels = df_average_purchase_by_category.index,\n",
    "    autopct = absolute_value,\n",
    "    colors = ['skyblue', 'lightcoral'],\n",
    "    startangle = 90\n",
    ")\n",
    "\n",
    "plt.title('Average Purchase by Category')\n",
    "plt.show()"
   ]
  },
  {
   "cell_type": "markdown",
   "id": "32747fea",
   "metadata": {
    "papermill": {
     "duration": 0.007701,
     "end_time": "2025-08-21T19:03:14.948209",
     "exception": false,
     "start_time": "2025-08-21T19:03:14.940508",
     "status": "completed"
    },
    "tags": []
   },
   "source": [
    "* Tüm kategorilerde ortalama harcama miktarları birbirine çok yakın (~57–60 USD aralığında).\n",
    "\n",
    "* Outerwear kategorisi diğerlerinden daha az harcama çekiyor, bu da daha az tercih edildiğini veya daha ucuz ürünlerin öne çıktığını gösterebilir.\n",
    "\n",
    "* Footwear ve Clothing müşterilerin en çok harcama yaptığı kategoriler olmuş.\n",
    "\n",
    "* Pazarlama açısından bakarsak, ayakkabı ve giyim ürünleri ön planda tutulmalı, outerwear kategorisi ise kampanyalarla desteklenebilir."
   ]
  },
  {
   "cell_type": "code",
   "execution_count": 18,
   "id": "09e0235d",
   "metadata": {
    "execution": {
     "iopub.execute_input": "2025-08-21T19:03:14.965539Z",
     "iopub.status.busy": "2025-08-21T19:03:14.965205Z",
     "iopub.status.idle": "2025-08-21T19:03:15.070509Z",
     "shell.execute_reply": "2025-08-21T19:03:15.069792Z"
    },
    "papermill": {
     "duration": 0.115717,
     "end_time": "2025-08-21T19:03:15.071961",
     "exception": false,
     "start_time": "2025-08-21T19:03:14.956244",
     "status": "completed"
    },
    "tags": []
   },
   "outputs": [],
   "source": [
    "from wordcloud import WordCloud"
   ]
  },
  {
   "cell_type": "code",
   "execution_count": 19,
   "id": "02e16c9f",
   "metadata": {
    "execution": {
     "iopub.execute_input": "2025-08-21T19:03:15.092995Z",
     "iopub.status.busy": "2025-08-21T19:03:15.092539Z",
     "iopub.status.idle": "2025-08-21T19:03:15.097899Z",
     "shell.execute_reply": "2025-08-21T19:03:15.096932Z"
    },
    "papermill": {
     "duration": 0.017568,
     "end_time": "2025-08-21T19:03:15.098997",
     "exception": false,
     "start_time": "2025-08-21T19:03:15.081429",
     "status": "completed"
    },
    "tags": []
   },
   "outputs": [],
   "source": [
    "top10_item_purchased = df['Item Purchased'].value_counts().head(10)"
   ]
  },
  {
   "cell_type": "code",
   "execution_count": 20,
   "id": "4de97aa2",
   "metadata": {
    "execution": {
     "iopub.execute_input": "2025-08-21T19:03:15.116954Z",
     "iopub.status.busy": "2025-08-21T19:03:15.116677Z",
     "iopub.status.idle": "2025-08-21T19:03:15.122375Z",
     "shell.execute_reply": "2025-08-21T19:03:15.121605Z"
    },
    "papermill": {
     "duration": 0.016202,
     "end_time": "2025-08-21T19:03:15.123535",
     "exception": false,
     "start_time": "2025-08-21T19:03:15.107333",
     "status": "completed"
    },
    "tags": []
   },
   "outputs": [
    {
     "data": {
      "text/plain": [
       "Item Purchased\n",
       "Blouse        171\n",
       "Jewelry       171\n",
       "Pants         171\n",
       "Shirt         169\n",
       "Dress         166\n",
       "Sweater       164\n",
       "Jacket        163\n",
       "Belt          161\n",
       "Sunglasses    161\n",
       "Coat          161\n",
       "Name: count, dtype: int64"
      ]
     },
     "execution_count": 20,
     "metadata": {},
     "output_type": "execute_result"
    }
   ],
   "source": [
    "top10_item_purchased"
   ]
  },
  {
   "cell_type": "code",
   "execution_count": 21,
   "id": "d80cc96f",
   "metadata": {
    "execution": {
     "iopub.execute_input": "2025-08-21T19:03:15.140844Z",
     "iopub.status.busy": "2025-08-21T19:03:15.140557Z",
     "iopub.status.idle": "2025-08-21T19:03:15.475344Z",
     "shell.execute_reply": "2025-08-21T19:03:15.474524Z"
    },
    "papermill": {
     "duration": 0.345111,
     "end_time": "2025-08-21T19:03:15.476799",
     "exception": false,
     "start_time": "2025-08-21T19:03:15.131688",
     "status": "completed"
    },
    "tags": []
   },
   "outputs": [
    {
     "data": {
      "image/png": "[encoded data removed]",
      "text/plain": [
       "<Figure size 640x480 with 1 Axes>"
      ]
     },
     "metadata": {},
     "output_type": "display_data"
    }
   ],
   "source": [
    "freqs = top10_item_purchased.to_dict()\n",
    "\n",
    "wc = WordCloud(width = 850, height = 500, background_color = 'white', colormap = 'cool').generate_from_frequencies(freqs)\n",
    "\n",
    "plt.imshow(wc, interpolation = 'bilinear')\n",
    "plt.axis('off')\n",
    "plt.title('Top 10 Items Purchased', fontsize = 20)\n",
    "plt.show()"
   ]
  },
  {
   "cell_type": "markdown",
   "id": "a4e3e8e8",
   "metadata": {
    "papermill": {
     "duration": 0.008544,
     "end_time": "2025-08-21T19:03:15.494773",
     "exception": false,
     "start_time": "2025-08-21T19:03:15.486229",
     "status": "completed"
    },
    "tags": []
   },
   "source": [
    "* Müşteriler en çok giyim (bluz, pantolon, gömlek, elbise) ve aksesuar (takı) kategorisine yönelmiş.\n",
    "\n",
    "* Dış giyim (coat, jacket) ve küçük aksesuarlar (belt, sunglasses) daha az tercih edilmiş.\n",
    "\n",
    "* Bu dağılım, mağaza için ürün stoklamada hangi kalemlerin öncelikli olması gerektiğini gösteriyor: bluz, pantolon ve mücevher ürünleri talep açısından diğer ürünlere kıyasla daha az."
   ]
  },
  {
   "cell_type": "code",
   "execution_count": 22,
   "id": "7a074fa4",
   "metadata": {
    "execution": {
     "iopub.execute_input": "2025-08-21T19:03:15.514989Z",
     "iopub.status.busy": "2025-08-21T19:03:15.514713Z",
     "iopub.status.idle": "2025-08-21T19:03:15.622282Z",
     "shell.execute_reply": "2025-08-21T19:03:15.621518Z"
    },
    "papermill": {
     "duration": 0.118802,
     "end_time": "2025-08-21T19:03:15.623310",
     "exception": false,
     "start_time": "2025-08-21T19:03:15.504508",
     "status": "completed"
    },
    "tags": []
   },
   "outputs": [
    {
     "data": {
      "image/png": "[encoded data removed]",
      "text/plain": [
       "<Figure size 640x480 with 1 Axes>"
      ]
     },
     "metadata": {},
     "output_type": "display_data"
    }
   ],
   "source": [
    "Seasonal_Purchase  = df.groupby('Season')['Purchase Amount (USD)'].sum()\n",
    "\n",
    "plt.plot(Seasonal_Purchase.index, Seasonal_Purchase.values, marker=\"o\", linestyle=\"-\", color=\"skyblue\")\n",
    "plt.title(\"Seasonal Purchase \")\n",
    "plt.xlabel(\"Seasons\")\n",
    "plt.ylabel(\"Purchase Amount\")\n",
    "plt.grid(True, linestyle=\"--\", alpha=0.7)\n",
    "\n",
    "plt.show()"
   ]
  },
  {
   "cell_type": "markdown",
   "id": "07a01f71",
   "metadata": {
    "papermill": {
     "duration": 0.009063,
     "end_time": "2025-08-21T19:03:15.647096",
     "exception": false,
     "start_time": "2025-08-21T19:03:15.638033",
     "status": "completed"
    },
    "tags": []
   },
   "source": [
    "* Müşteriler en çok sonbaharda alışveriş yapıyor. Bu; okula dönüş dönemi, yeni sezon ürünleri veya indirim kampanyalarıyla ilişkili olabilir.\n",
    "\n",
    "* Yaz mevsimi, alışverişin en az olduğu dönem. İnsanlar tatilde olduklarından veya daha az ürün ihtiyacı hissettiklerinden dolayı harcama düşüyor olabilir.\n",
    "\n",
    "* Kış ve ilkbahar alışveriş seviyeleri birbirine yakın ve orta seviyede.\n",
    "\n",
    "* Pazarlama açısından sonbaharda kampanya yapmak satışları daha da artırabilir, yaz döneminde ise ekstra teşviklere ihtiyaç olabilir."
   ]
  },
  {
   "cell_type": "code",
   "execution_count": 23,
   "id": "23a5ca65",
   "metadata": {
    "execution": {
     "iopub.execute_input": "2025-08-21T19:03:15.666830Z",
     "iopub.status.busy": "2025-08-21T19:03:15.666012Z",
     "iopub.status.idle": "2025-08-21T19:03:15.801606Z",
     "shell.execute_reply": "2025-08-21T19:03:15.800754Z"
    },
    "papermill": {
     "duration": 0.146699,
     "end_time": "2025-08-21T19:03:15.802701",
     "exception": false,
     "start_time": "2025-08-21T19:03:15.656002",
     "status": "completed"
    },
    "tags": []
   },
   "outputs": [
    {
     "data": {
      "image/png": "[encoded data removed]",
      "text/plain": [
       "<Figure size 640x480 with 1 Axes>"
      ]
     },
     "metadata": {},
     "output_type": "display_data"
    }
   ],
   "source": [
    "plt.hist(df['Review Rating'], bins = 20, color = 'skyblue', edgecolor = 'black', alpha = 0.7)\n",
    "plt.title('Review Rating Distribution')\n",
    "plt.xlabel('Review Rating')\n",
    "plt.ylabel('Frequency')\n",
    "plt.grid(axis = 'y', linestyle = '--', alpha = 0.7)\n",
    "plt.show()"
   ]
  },
  {
   "cell_type": "code",
   "execution_count": 24,
   "id": "cad0a760",
   "metadata": {
    "execution": {
     "iopub.execute_input": "2025-08-21T19:03:15.823954Z",
     "iopub.status.busy": "2025-08-21T19:03:15.823712Z",
     "iopub.status.idle": "2025-08-21T19:03:15.830278Z",
     "shell.execute_reply": "2025-08-21T19:03:15.829686Z"
    },
    "papermill": {
     "duration": 0.018839,
     "end_time": "2025-08-21T19:03:15.831629",
     "exception": false,
     "start_time": "2025-08-21T19:03:15.812790",
     "status": "completed"
    },
    "tags": []
   },
   "outputs": [
    {
     "data": {
      "text/plain": [
       "Subscription Status\n",
       "No     59.865121\n",
       "Yes    59.491928\n",
       "Name: Purchase Amount (USD), dtype: float64"
      ]
     },
     "execution_count": 24,
     "metadata": {},
     "output_type": "execute_result"
    }
   ],
   "source": [
    "purchases_by_subscribtion_status = df.groupby('Subscription Status')['Purchase Amount (USD)'].mean()\n",
    "purchases_by_subscribtion_status"
   ]
  },
  {
   "cell_type": "code",
   "execution_count": 25,
   "id": "f5db7745",
   "metadata": {
    "execution": {
     "iopub.execute_input": "2025-08-21T19:03:15.853039Z",
     "iopub.status.busy": "2025-08-21T19:03:15.852780Z",
     "iopub.status.idle": "2025-08-21T19:03:15.963788Z",
     "shell.execute_reply": "2025-08-21T19:03:15.963164Z"
    },
    "papermill": {
     "duration": 0.122875,
     "end_time": "2025-08-21T19:03:15.964913",
     "exception": false,
     "start_time": "2025-08-21T19:03:15.842038",
     "status": "completed"
    },
    "tags": []
   },
   "outputs": [
    {
     "data": {
      "image/png": "[encoded data removed]",
      "text/plain": [
       "<Figure size 640x480 with 1 Axes>"
      ]
     },
     "metadata": {},
     "output_type": "display_data"
    }
   ],
   "source": [
    "plt.bar(purchases_by_subscribtion_status.index, purchases_by_subscribtion_status.values, color = 'skyblue', edgecolor = 'black', alpha = 0.7 )\n",
    "plt.title('Purchases By Subscribtion status')\n",
    "plt.xlabel('Subscribtion Status')\n",
    "plt.ylabel('Average Purchases')\n",
    "plt.grid(axis = 'y', linestyle = '--', alpha = 0.7)\n",
    "plt.show()"
   ]
  },
  {
   "cell_type": "markdown",
   "id": "e4ebd220",
   "metadata": {
    "papermill": {
     "duration": 0.010221,
     "end_time": "2025-08-21T19:03:15.986253",
     "exception": false,
     "start_time": "2025-08-21T19:03:15.976032",
     "status": "completed"
    },
    "tags": []
   },
   "source": [
    "* Genel olarak müşteriler memnun → çünkü düşük puanlar (2.5-3.0) daha az.\n",
    "\n",
    "* Çoğunluk 3.5 – 5 arasında puan vermiş, bu da ürün/hizmetin genel olarak olumlu değerlendirildiğini gösteriyor.\n",
    "\n",
    "* Ancak yine de bazı düşük puanlar var; bu da müşteri deneyiminde iyileştirilmesi gereken noktalar olduğuna işaret ediyor."
   ]
  },
  {
   "cell_type": "code",
   "execution_count": 26,
   "id": "af8566d9",
   "metadata": {
    "execution": {
     "iopub.execute_input": "2025-08-21T19:03:16.008177Z",
     "iopub.status.busy": "2025-08-21T19:03:16.007894Z",
     "iopub.status.idle": "2025-08-21T19:03:16.011122Z",
     "shell.execute_reply": "2025-08-21T19:03:16.010549Z"
    },
    "papermill": {
     "duration": 0.015645,
     "end_time": "2025-08-21T19:03:16.012018",
     "exception": false,
     "start_time": "2025-08-21T19:03:15.996373",
     "status": "completed"
    },
    "tags": []
   },
   "outputs": [],
   "source": [
    "import seaborn as sns"
   ]
  },
  {
   "cell_type": "code",
   "execution_count": 27,
   "id": "22de265c",
   "metadata": {
    "execution": {
     "iopub.execute_input": "2025-08-21T19:03:16.033376Z",
     "iopub.status.busy": "2025-08-21T19:03:16.033097Z",
     "iopub.status.idle": "2025-08-21T19:03:16.152635Z",
     "shell.execute_reply": "2025-08-21T19:03:16.151807Z"
    },
    "papermill": {
     "duration": 0.131709,
     "end_time": "2025-08-21T19:03:16.153994",
     "exception": false,
     "start_time": "2025-08-21T19:03:16.022285",
     "status": "completed"
    },
    "tags": []
   },
   "outputs": [
    {
     "data": {
      "image/png": "[encoded data removed]",
      "text/plain": [
       "<Figure size 640x480 with 1 Axes>"
      ]
     },
     "metadata": {},
     "output_type": "display_data"
    }
   ],
   "source": [
    "sns.boxplot(x = 'Subscription Status', y = 'Purchase Amount (USD)', data = df, palette = 'Blues')\n",
    "plt.title('Purchases by Subscription Status (Boxplot)')\n",
    "plt.xlabel('Subscription Status')\n",
    "plt.ylabel('Purchase Amount (USD)')\n",
    "plt.grid(axis='y', linestyle='--', alpha=0.7)\n",
    "plt.show()"
   ]
  },
  {
   "cell_type": "markdown",
   "id": "53b99aeb",
   "metadata": {
    "papermill": {
     "duration": 0.010903,
     "end_time": "2025-08-21T19:03:16.176994",
     "exception": false,
     "start_time": "2025-08-21T19:03:16.166091",
     "status": "completed"
    },
    "tags": []
   },
   "source": [
    "* Her iki grubun ortanca (median) harcaması yaklaşık 60 USD civarında, yani çok farklı değiller.\n",
    "\n",
    "* Dağılım aralıkları (IQR):\n",
    "\n",
    "   Aboneliği olanlarda (Yes) harcamalar 40 – 80 USD arasında yoğunlaşmış.\n",
    "\n",
    "   Aboneliği olmayanlarda (No) harcamalar 38 – 82 USD arasında yoğunlaşmış.\n",
    "\n",
    "* Her iki grupta da minimum ~20 USD, maksimum ise ~100 USD civarında harcama yapılmış.\n",
    "\n",
    "* Outlier (aykırı değer) gözükmüyor, dağılım simetrik görünüyor."
   ]
  },
  {
   "cell_type": "code",
   "execution_count": 28,
   "id": "6c22edda",
   "metadata": {
    "execution": {
     "iopub.execute_input": "2025-08-21T19:03:16.200112Z",
     "iopub.status.busy": "2025-08-21T19:03:16.199854Z",
     "iopub.status.idle": "2025-08-21T19:03:16.207620Z",
     "shell.execute_reply": "2025-08-21T19:03:16.206910Z"
    },
    "papermill": {
     "duration": 0.020799,
     "end_time": "2025-08-21T19:03:16.208643",
     "exception": false,
     "start_time": "2025-08-21T19:03:16.187844",
     "status": "completed"
    },
    "tags": []
   },
   "outputs": [
    {
     "data": {
      "text/plain": [
       "Discount Applied\n",
       "No     133670\n",
       "Yes     99411\n",
       "Name: Purchase Amount (USD), dtype: int64"
      ]
     },
     "execution_count": 28,
     "metadata": {},
     "output_type": "execute_result"
    }
   ],
   "source": [
    "Purchases_by_Discount_Applied = df.groupby('Discount Applied')['Purchase Amount (USD)'].sum()\n",
    "Purchases_by_Discount_Applied "
   ]
  },
  {
   "cell_type": "code",
   "execution_count": 29,
   "id": "60907f92",
   "metadata": {
    "execution": {
     "iopub.execute_input": "2025-08-21T19:03:16.230782Z",
     "iopub.status.busy": "2025-08-21T19:03:16.230564Z",
     "iopub.status.idle": "2025-08-21T19:03:16.340102Z",
     "shell.execute_reply": "2025-08-21T19:03:16.339303Z"
    },
    "papermill": {
     "duration": 0.121987,
     "end_time": "2025-08-21T19:03:16.341317",
     "exception": false,
     "start_time": "2025-08-21T19:03:16.219330",
     "status": "completed"
    },
    "tags": []
   },
   "outputs": [
    {
     "data": {
      "image/png": "[encoded data removed]",
      "text/plain": [
       "<Figure size 640x480 with 1 Axes>"
      ]
     },
     "metadata": {},
     "output_type": "display_data"
    }
   ],
   "source": [
    "plt.bar(Purchases_by_Discount_Applied.index, Purchases_by_Discount_Applied.values, color = 'skyblue', edgecolor = 'black', alpha = 0.7 )\n",
    "plt.title('Purchases By Discount Applied')\n",
    "plt.xlabel('Discount Applied')\n",
    "plt.ylabel('Total Purchases')\n",
    "plt.grid(axis = 'y', linestyle = '--', alpha = 0.7)\n",
    "plt.show()"
   ]
  },
  {
   "cell_type": "markdown",
   "id": "d63d0e89",
   "metadata": {
    "papermill": {
     "duration": 0.010784,
     "end_time": "2025-08-21T19:03:16.364104",
     "exception": false,
     "start_time": "2025-08-21T19:03:16.353320",
     "status": "completed"
    },
    "tags": []
   },
   "source": [
    "* Müşteriler indirimli alışveriş yapıyor olsalar da, toplamda daha fazla harcama indirim olmayan işlemlerden gelmiş.\n",
    "\n",
    "* Bunun birkaç olası nedeni olabilir:\n",
    "\n",
    "   İndirimler düşük seviye ürünlerde uygulanıyor olabilir bu yüzden toplam hacmi düşürüyor.\n",
    "\n",
    "   İndirimli alışveriş yapan müşteri sayısı fazla olsa bile, ortalama harcama düşük kalıyor olabilir.\n",
    "\n",
    "   İndirim olmayan ürünlerde müşteriler daha büyük harcamalar yapıyor olabilir."
   ]
  },
  {
   "cell_type": "code",
   "execution_count": 30,
   "id": "9d5cc435",
   "metadata": {
    "execution": {
     "iopub.execute_input": "2025-08-21T19:03:16.387773Z",
     "iopub.status.busy": "2025-08-21T19:03:16.387167Z",
     "iopub.status.idle": "2025-08-21T19:03:16.503347Z",
     "shell.execute_reply": "2025-08-21T19:03:16.502770Z"
    },
    "papermill": {
     "duration": 0.129381,
     "end_time": "2025-08-21T19:03:16.504482",
     "exception": false,
     "start_time": "2025-08-21T19:03:16.375101",
     "status": "completed"
    },
    "tags": []
   },
   "outputs": [
    {
     "data": {
      "image/png": "[encoded data removed]",
      "text/plain": [
       "<Figure size 640x480 with 1 Axes>"
      ]
     },
     "metadata": {},
     "output_type": "display_data"
    }
   ],
   "source": [
    "sns.countplot(x='Payment Method', data=df, palette='Blues', edgecolor='black')\n",
    "plt.title(\"Payment Methods\")\n",
    "plt.xlabel(\"Payment Method\")\n",
    "plt.ylabel(\"Count\")\n",
    "plt.show()\n"
   ]
  },
  {
   "cell_type": "markdown",
   "id": "59767e9d",
   "metadata": {
    "papermill": {
     "duration": 0.011773,
     "end_time": "2025-08-21T19:03:16.528092",
     "exception": false,
     "start_time": "2025-08-21T19:03:16.516319",
     "status": "completed"
    },
    "tags": []
   },
   "source": [
    "* Kredi kartı ve PayPal, müşterilerin en çok tercih ettiği yöntemler. Bu, dijital ve hızlı ödeme sistemlerinin ön planda olduğunu gösteriyor.\n",
    "\n",
    "* Nakit ödeme hala güçlü bir paya sahip, yani fiziksel alışverişlerde müşteriler nakit kullanmayı da sürdürüyor.\n",
    "\n",
    "* Bank transfer en düşük seviyede."
   ]
  },
  {
   "cell_type": "code",
   "execution_count": 31,
   "id": "369c3e36",
   "metadata": {
    "execution": {
     "iopub.execute_input": "2025-08-21T19:03:16.553257Z",
     "iopub.status.busy": "2025-08-21T19:03:16.552972Z",
     "iopub.status.idle": "2025-08-21T19:03:16.559355Z",
     "shell.execute_reply": "2025-08-21T19:03:16.558658Z"
    },
    "papermill": {
     "duration": 0.020687,
     "end_time": "2025-08-21T19:03:16.560580",
     "exception": false,
     "start_time": "2025-08-21T19:03:16.539893",
     "status": "completed"
    },
    "tags": []
   },
   "outputs": [
    {
     "data": {
      "text/plain": [
       "Payment Method\n",
       "PayPal           677\n",
       "Credit Card      671\n",
       "Cash             670\n",
       "Debit Card       636\n",
       "Venmo            634\n",
       "Bank Transfer    612\n",
       "Name: count, dtype: int64"
      ]
     },
     "execution_count": 31,
     "metadata": {},
     "output_type": "execute_result"
    }
   ],
   "source": [
    "payment_counts = df['Payment Method'].value_counts()\n",
    "payment_counts"
   ]
  },
  {
   "cell_type": "code",
   "execution_count": 32,
   "id": "612be074",
   "metadata": {
    "execution": {
     "iopub.execute_input": "2025-08-21T19:03:16.584886Z",
     "iopub.status.busy": "2025-08-21T19:03:16.584661Z",
     "iopub.status.idle": "2025-08-21T19:03:16.663143Z",
     "shell.execute_reply": "2025-08-21T19:03:16.662418Z"
    },
    "papermill": {
     "duration": 0.091948,
     "end_time": "2025-08-21T19:03:16.664253",
     "exception": false,
     "start_time": "2025-08-21T19:03:16.572305",
     "status": "completed"
    },
    "tags": []
   },
   "outputs": [
    {
     "data": {
      "text/plain": [
       "([<matplotlib.patches.Wedge at 0x78fec667a890>,\n",
       "  <matplotlib.patches.Wedge at 0x78fec48d5c50>,\n",
       "  <matplotlib.patches.Wedge at 0x78fec48d76d0>,\n",
       "  <matplotlib.patches.Wedge at 0x78fec48d6d90>,\n",
       "  <matplotlib.patches.Wedge at 0x78fec48df250>,\n",
       "  <matplotlib.patches.Wedge at 0x78fec48e9090>],\n",
       " [Text(-0.5705874335048803, 0.9404413754861671, 'PayPal'),\n",
       "  Text(-1.0979931129939886, -0.06641629180984228, 'Credit Card'),\n",
       "  Text(-0.4587144279624141, -0.9997905148475432, 'Cash'),\n",
       "  Text(0.6408154704759375, -0.8940668502962758, 'Debit Card'),\n",
       "  Text(1.0969806767819423, 0.08144565529868368, 'Venmo'),\n",
       "  Text(0.5205866583311858, 0.9690147218528568, 'Bank Transfer')],\n",
       " [Text(-0.3112295091844801, 0.5129680229924548, '17.4%'),\n",
       "  Text(-0.5989053343603574, -0.036227068259913967, '17.2%'),\n",
       "  Text(-0.2502078697976804, -0.5453402808259326, '17.2%'),\n",
       "  Text(0.3495357111686931, -0.48767282743433216, '16.3%'),\n",
       "  Text(0.5983530964265139, 0.04442490289019109, '16.3%'),\n",
       "  Text(0.28395635908973765, 0.5285534846470127, '15.7%')])"
      ]
     },
     "execution_count": 32,
     "metadata": {},
     "output_type": "execute_result"
    },
    {
     "data": {
      "image/png": "[encoded data removed]",
      "text/plain": [
       "<Figure size 640x480 with 1 Axes>"
      ]
     },
     "metadata": {},
     "output_type": "display_data"
    }
   ],
   "source": [
    "colors = plt.cm.Blues(range(50, 50 + 30*len(payment_counts), 30))\n",
    "\n",
    "plt.pie(payment_counts.values,\n",
    "       labels = payment_counts.index,\n",
    "         autopct='%1.1f%%',                      \n",
    "    startangle=90,                          \n",
    "    colors= colors\n",
    "       )"
   ]
  },
  {
   "cell_type": "code",
   "execution_count": 33,
   "id": "e5201932",
   "metadata": {
    "execution": {
     "iopub.execute_input": "2025-08-21T19:03:16.690828Z",
     "iopub.status.busy": "2025-08-21T19:03:16.690560Z",
     "iopub.status.idle": "2025-08-21T19:03:16.696438Z",
     "shell.execute_reply": "2025-08-21T19:03:16.695431Z"
    },
    "papermill": {
     "duration": 0.020262,
     "end_time": "2025-08-21T19:03:16.697807",
     "exception": false,
     "start_time": "2025-08-21T19:03:16.677545",
     "status": "completed"
    },
    "tags": []
   },
   "outputs": [],
   "source": [
    "avg_purchase = df.groupby(\"Frequency of Purchases\")[\"Purchase Amount (USD)\"].mean()"
   ]
  },
  {
   "cell_type": "code",
   "execution_count": 34,
   "id": "abf45251",
   "metadata": {
    "execution": {
     "iopub.execute_input": "2025-08-21T19:03:16.723955Z",
     "iopub.status.busy": "2025-08-21T19:03:16.723671Z",
     "iopub.status.idle": "2025-08-21T19:03:16.875311Z",
     "shell.execute_reply": "2025-08-21T19:03:16.874348Z"
    },
    "papermill": {
     "duration": 0.166269,
     "end_time": "2025-08-21T19:03:16.876536",
     "exception": false,
     "start_time": "2025-08-21T19:03:16.710267",
     "status": "completed"
    },
    "tags": []
   },
   "outputs": [
    {
     "data": {
      "image/png": "[encoded data removed]",
      "text/plain": [
       "<Figure size 640x480 with 1 Axes>"
      ]
     },
     "metadata": {},
     "output_type": "display_data"
    }
   ],
   "source": [
    "plt.plot(avg_purchase.index, avg_purchase.values,\n",
    "         marker=\"o\", linestyle=\"-\", color=\"blue\")\n",
    "\n",
    "plt.title(\"Frequency  By Average Purchase Amount\")\n",
    "plt.xlabel(\"Frequency of Purchases\")\n",
    "plt.ylabel(\"Average Purchase (USD)\")\n",
    "plt.grid(axis=\"y\", linestyle=\"--\", alpha=0.7)\n",
    "plt.xticks(rotation=30, ha=\"right\")\n",
    "plt.tight_layout()\n",
    "plt.show()"
   ]
  },
  {
   "cell_type": "markdown",
   "id": "7381c4ff",
   "metadata": {
    "papermill": {
     "duration": 0.012802,
     "end_time": "2025-08-21T19:03:16.903160",
     "exception": false,
     "start_time": "2025-08-21T19:03:16.890358",
     "status": "completed"
    },
    "tags": []
   },
   "source": [
    "* Daha seyrek alışveriş yapan müşteriler (yılda bir, 2 haftada bir, 3 ayda bir) tek seferde daha yüksek harcama yapıyor.\n",
    "\n",
    "* Daha sık alışveriş yapanlar (haftalık, aylık) ise daha düşük tutarda ama daha fazla sayıda alışveriş yapıyor olabilir.\n",
    "\n",
    "* Yani alışveriş sıklığı arttıkça, tek seferde yapılan harcama azalma eğilimi gösteriyor."
   ]
  }
 ],
 "metadata": {
  "kaggle": {
   "accelerator": "none",
   "dataSources": [
    {
     "datasetId": 3808038,
     "sourceId": 6613614,
     "sourceType": "datasetVersion"
    }
   ],
   "dockerImageVersionId": 31089,
   "isGpuEnabled": false,
   "isInternetEnabled": false,
   "language": "python",
   "sourceType": "notebook"
  },
  "kernelspec": {
   "display_name": "Python 3",
   "language": "python",
   "name": "python3"
  },
  "language_info": {
   "codemirror_mode": {
    "name": "ipython",
    "version": 3
   },
   "file_extension": ".py",
   "mimetype": "text/x-python",
   "name": "python",
   "nbconvert_exporter": "python",
   "pygments_lexer": "ipython3",
   "version": "3.11.13"
  },
  "papermill": {
   "default_parameters": {},
   "duration": 12.804954,
   "end_time": "2025-08-21T19:03:17.636185",
   "environment_variables": {},
   "exception": null,
   "input_path": "__notebook__.ipynb",
   "output_path": "__notebook__.ipynb",
   "parameters": {},
   "start_time": "2025-08-21T19:03:04.831231",
   "version": "2.6.0"
  }
 },
 "nbformat": 4,
 "nbformat_minor": 5
}
